{
 "cells": [
  {
   "cell_type": "code",
   "execution_count": 1,
   "metadata": {
    "collapsed": false
   },
   "outputs": [],
   "source": [
    "%matplotlib inline\n",
    "import epi_prediction\n",
    "import numpy as np"
   ]
  },
  {
   "cell_type": "markdown",
   "metadata": {},
   "source": [
    "##Load Mask"
   ]
  },
  {
   "cell_type": "code",
   "execution_count": 2,
   "metadata": {
    "collapsed": false
   },
   "outputs": [],
   "source": [
    "white_matter = epi_prediction.SimpleMasker('masks/white.nii', .2)"
   ]
  },
  {
   "cell_type": "markdown",
   "metadata": {},
   "source": [
    "##Import Data"
   ]
  },
  {
   "cell_type": "code",
   "execution_count": 3,
   "metadata": {
    "collapsed": false
   },
   "outputs": [],
   "source": [
    "src_dir = '/home/nick/Desktop/dki_stuff/modalities'\n",
    "\n",
    "control_filter = lambda file_name: 'CON' in file_name\n",
    "patient_filter = lambda file_name: 'PAT' in file_name"
   ]
  },
  {
   "cell_type": "code",
   "execution_count": null,
   "metadata": {
    "collapsed": true
   },
   "outputs": [],
   "source": []
  },
  {
   "cell_type": "code",
   "execution_count": 4,
   "metadata": {
    "collapsed": false
   },
   "outputs": [
    {
     "ename": "NameError",
     "evalue": "name 'epi_prediction' is not defined",
     "output_type": "error",
     "traceback": [
      "\u001b[1;31m---------------------------------------------------------------------------\u001b[0m",
      "\u001b[1;31mNameError\u001b[0m                                 Traceback (most recent call last)",
      "\u001b[1;32m<ipython-input-4-1ce8bd6f4438>\u001b[0m in \u001b[0;36m<module>\u001b[1;34m()\u001b[0m\n\u001b[1;32m----> 1\u001b[1;33m \u001b[0mepi_paths\u001b[0m \u001b[1;33m=\u001b[0m \u001b[0mepi_prediction\u001b[0m\u001b[1;33m.\u001b[0m\u001b[0mget_epi_paths\u001b[0m\u001b[1;33m(\u001b[0m\u001b[0msrc_dir\u001b[0m\u001b[1;33m,\u001b[0m \u001b[0mpatient_filter\u001b[0m\u001b[1;33m,\u001b[0m \u001b[0mcontrol_filter\u001b[0m\u001b[1;33m)\u001b[0m\u001b[1;33m\u001b[0m\u001b[0m\n\u001b[0m",
      "\u001b[1;31mNameError\u001b[0m: name 'epi_prediction' is not defined"
     ]
    }
   ],
   "source": [
    "epi_paths = epi_prediction.get_epi_paths(src_dir, patient_filter, control_filter)"
   ]
  },
  {
   "cell_type": "code",
   "execution_count": null,
   "metadata": {
    "collapsed": true
   },
   "outputs": [],
   "source": []
  },
  {
   "cell_type": "code",
   "execution_count": 5,
   "metadata": {
    "collapsed": false
   },
   "outputs": [],
   "source": [
    "pats_than_cons = lambda mod: epi_paths[mod]['pats'] + epi_paths[mod]['cons']"
   ]
  },
  {
   "cell_type": "code",
   "execution_count": null,
   "metadata": {
    "collapsed": true
   },
   "outputs": [],
   "source": []
  },
  {
   "cell_type": "code",
   "execution_count": 6,
   "metadata": {
    "collapsed": false
   },
   "outputs": [
    {
     "name": "stdout",
     "output_type": "stream",
     "text": [
      "--------------------------------------------------------------------\n",
      "####################################################################--------------------------------------------------------------------\n",
      "####################################################################--------------------------------------------------------------------\n",
      "####################################################################"
     ]
    }
   ],
   "source": [
    "mat = epi_prediction.hstack(white_matter, \n",
    "                            True, \n",
    "                            pats_than_cons('dmean'), \n",
    "                            pats_than_cons('fa'), \n",
    "                            pats_than_cons('kmean'))"
   ]
  },
  {
   "cell_type": "code",
   "execution_count": 7,
   "metadata": {
    "collapsed": false
   },
   "outputs": [
    {
     "data": {
      "text/plain": [
       "(68, 402789)"
      ]
     },
     "execution_count": 7,
     "metadata": {},
     "output_type": "execute_result"
    }
   ],
   "source": [
    "mat.shape\n"
   ]
  },
  {
   "cell_type": "code",
   "execution_count": 8,
   "metadata": {
    "collapsed": false
   },
   "outputs": [],
   "source": [
    "labels = len(epi_paths['dmean']['pats']) * [1] + len(epi_paths['dmean']['cons']) * [0]"
   ]
  },
  {
   "cell_type": "code",
   "execution_count": 9,
   "metadata": {
    "collapsed": false,
    "scrolled": true
   },
   "outputs": [
    {
     "data": {
      "text/plain": [
       "68"
      ]
     },
     "execution_count": 9,
     "metadata": {},
     "output_type": "execute_result"
    }
   ],
   "source": [
    "len(labels)"
   ]
  },
  {
   "cell_type": "markdown",
   "metadata": {},
   "source": [
    "##Create Feature Selection That Combines Modalities"
   ]
  },
  {
   "cell_type": "code",
   "execution_count": 10,
   "metadata": {
    "collapsed": false
   },
   "outputs": [
    {
     "data": {
      "text/plain": [
       "{'dmean': (0, 134263), 'fa': (134263, 268526), 'kmean': (268526, 402789)}"
      ]
     },
     "execution_count": 10,
     "metadata": {},
     "output_type": "execute_result"
    }
   ],
   "source": [
    "from __future__ import division\n",
    "\n",
    "dist = (int)(mat.shape[1]/3)\n",
    "\n",
    "index_map = {\"dmean\": (0, dist),\n",
    "             \"fa\":  (dist, 2 * dist),\n",
    "             \"kmean\": (2*dist, 3*dist)}\n",
    "\n",
    "index_map"
   ]
  },
  {
   "cell_type": "code",
   "execution_count": 11,
   "metadata": {
    "collapsed": false
   },
   "outputs": [],
   "source": [
    "from nilearn.input_data import NiftiMasker\n",
    "from sklearn.cross_validation import StratifiedKFold, cross_val_score\n",
    "from sklearn.feature_selection import SelectKBest, f_classif\n",
    "from sklearn.pipeline import Pipeline\n",
    "from sklearn.svm import SVC"
   ]
  },
  {
   "cell_type": "code",
   "execution_count": 12,
   "metadata": {
    "collapsed": false
   },
   "outputs": [],
   "source": [
    "def new_anova(mod, k=500): \n",
    "    return Pipeline([\n",
    "        ('columns', epi_prediction.ColumnSelector(index_map[mod])),\n",
    "        ('anova', SelectKBest(k=k))\n",
    "    ])\n",
    "\n",
    "\n",
    "# does this use the classified information ? "
   ]
  },
  {
   "cell_type": "code",
   "execution_count": 13,
   "metadata": {
    "collapsed": false
   },
   "outputs": [],
   "source": [
    "from sklearn.pipeline import FeatureUnion\n",
    "\n",
    "anovas = FeatureUnion([ (m, new_anova(m)) for m in index_map])"
   ]
  },
  {
   "cell_type": "code",
   "execution_count": 14,
   "metadata": {
    "collapsed": false
   },
   "outputs": [
    {
     "data": {
      "text/plain": [
       "FeatureUnion(n_jobs=1,\n",
       "       transformer_list=[('fa', Pipeline(steps=[('columns', ColumnSelector(col_indexes=(134263, 268526))), ('anova', SelectKBest(k=500, score_func=<function f_classif at 0x7ff692727230>))])), ('dmean', Pipeline(steps=[('columns', ColumnSelector(col_indexes=(0, 134263))), ('anova', SelectKBest(k=500, score_...526, 402789))), ('anova', SelectKBest(k=500, score_func=<function f_classif at 0x7ff692727230>))]))],\n",
       "       transformer_weights=None)"
      ]
     },
     "execution_count": 14,
     "metadata": {},
     "output_type": "execute_result"
    }
   ],
   "source": [
    "anovas"
   ]
  },
  {
   "cell_type": "markdown",
   "metadata": {},
   "source": [
    "##Initialize SVC"
   ]
  },
  {
   "cell_type": "code",
   "execution_count": 15,
   "metadata": {
    "collapsed": false
   },
   "outputs": [
    {
     "data": {
      "text/plain": [
       "Pipeline(steps=[('feature_selection', FeatureUnion(n_jobs=1,\n",
       "       transformer_list=[('fa', Pipeline(steps=[('columns', ColumnSelector(col_indexes=(134263, 268526))), ('anova', SelectKBest(k=500, score_func=<function f_classif at 0x7ff692727230>))])), ('dmean', Pipeline(steps=[('columns', ColumnSelector(col...f', max_iter=-1, probability=False, random_state=None,\n",
       "  shrinking=True, tol=0.001, verbose=False))])"
      ]
     },
     "execution_count": 15,
     "metadata": {},
     "output_type": "execute_result"
    }
   ],
   "source": [
    "feature_selection_svc = Pipeline([('feature_selection', anovas), ('svc', SVC())])\n",
    "feature_selection_svc"
   ]
  },
  {
   "cell_type": "markdown",
   "metadata": {},
   "source": [
    "##Grid Search for Best Parameters of Gamma and C"
   ]
  },
  {
   "cell_type": "code",
   "execution_count": 16,
   "metadata": {
    "collapsed": false
   },
   "outputs": [],
   "source": [
    "from sklearn.grid_search import GridSearchCV\n",
    "\n",
    "C_range = np.logspace(-2, 10, 13)\n",
    "gamma_range = np.logspace(-9, 3, 13)\n",
    "param_grid = dict(svc__gamma=gamma_range, svc__C=C_range)\n",
    "n_folds = np.floor_divide(32, 5)\n",
    "\n",
    "cv = StratifiedKFold(labels, n_folds=n_folds)"
   ]
  },
  {
   "cell_type": "code",
   "execution_count": 17,
   "metadata": {
    "collapsed": false
   },
   "outputs": [
    {
     "name": "stdout",
     "output_type": "stream",
     "text": [
      "------------------------------------------------------------------------------------------------------------------------------------------------------------------------------------------------------------------------------------------------------------------------------------------------------------------------------------------------------------------------------------------------------------------------------------------------------------------------------------------------------------------------------------------------------------------------------------------------------------------------------------------------------------------------------------------------------------------------------------------------------------------------------------------------------------------------------------------------------------------------------------------------------------------------------------------------------------------------------------------------------------------------------------------------------\n",
      "######################################################################################################################################################################################################################################################################################################################################################################################################################################################################################################################################################################################################################################################################################################################################################################################################################################################################################################################################################################################################################################################"
     ]
    },
    {
     "name": "stderr",
     "output_type": "stream",
     "text": [
      "/usr/local/anaconda/lib/python2.7/site-packages/sklearn/metrics/classification.py:958: UndefinedMetricWarning: F-score is ill-defined and being set to 0.0 due to no predicted samples.\n",
      "  'precision', 'predicted', average, warn_for)\n"
     ]
    },
    {
     "data": {
      "text/plain": [
       "GridSearchCV(cv=sklearn.cross_validation.StratifiedKFold(labels=[1 1 ..., 0 0], n_folds=6, shuffle=False, random_state=None),\n",
       "       error_score='raise',\n",
       "       estimator=Pipeline(steps=[('feature_selection', FeatureUnion(n_jobs=1,\n",
       "       transformer_list=[('fa', Pipeline(steps=[('columns', ColumnSelector(col_indexes=(134263, 268526))), ('anova', SelectKBest(k=500, score_func=<function f_classif at 0x7ff692727230>))])), ('dmean', Pipeline(steps=[('columns', ColumnSelector(col...f', max_iter=-1, probability=False, random_state=None,\n",
       "  shrinking=True, tol=0.001, verbose=False))]),\n",
       "       fit_params={}, iid=True, loss_func=None, n_jobs=1,\n",
       "       param_grid={'svc__gamma': array([  1.00000e-09,   1.00000e-08,   1.00000e-07,   1.00000e-06,\n",
       "         1.00000e-05,   1.00000e-04,   1.00000e-03,   1.00000e-02,\n",
       "         1.00000e-01,   1.00000e+00,   1.00000e+01,   1.00000e+02,\n",
       "         1.00000e+03]), 'svc__C': array([  1.00000e-02,   1.00000e-01,   1.00000e+00,   1.00000e+01,\n",
       "         1.00000e+02,   1.00000e+03,   1.00000e+04,   1.00000e+05,\n",
       "         1.00000e+06,   1.00000e+07,   1.00000e+08,   1.00000e+09,\n",
       "         1.00000e+10])},\n",
       "       pre_dispatch='2*n_jobs', refit=True, score_func=None,\n",
       "       scoring=make_scorer(verbose_score_fn), verbose=0)"
      ]
     },
     "execution_count": 17,
     "metadata": {},
     "output_type": "execute_result"
    }
   ],
   "source": [
    "total_runs = len(C_range) * len(gamma_range) * n_folds\n",
    "\n",
    "scorer = epi_prediction.verbose_scorer(total_runs)\n",
    "grid = GridSearchCV(feature_selection_svc, param_grid=param_grid, cv=cv, scoring = scorer)\n",
    "\n",
    "grid.fit(mat, labels)"
   ]
  },
  {
   "cell_type": "code",
   "execution_count": 18,
   "metadata": {
    "collapsed": false
   },
   "outputs": [
    {
     "data": {
      "text/plain": [
       "array([[ 0.        ,  0.        ,  0.        ,  0.        ,  0.        ,\n",
       "         0.        ,  0.        ,  0.        ,  0.        ,  0.        ,\n",
       "         0.        ,  0.        ,  0.        ],\n",
       "       [ 0.        ,  0.        ,  0.        ,  0.        ,  0.        ,\n",
       "         0.        ,  0.        ,  0.41981793,  0.        ,  0.        ,\n",
       "         0.        ,  0.        ,  0.        ],\n",
       "       [ 0.        ,  0.        ,  0.        ,  0.        ,  0.        ,\n",
       "         0.        ,  0.68464052,  0.71289593,  0.59601918,  0.        ,\n",
       "         0.        ,  0.        ,  0.        ],\n",
       "       [ 0.        ,  0.        ,  0.        ,  0.        ,  0.        ,\n",
       "         0.68464052,  0.73479135,  0.71895425,  0.57429972,  0.        ,\n",
       "         0.        ,  0.        ,  0.        ],\n",
       "       [ 0.        ,  0.        ,  0.        ,  0.        ,  0.68464052,\n",
       "         0.73479135,  0.71895425,  0.71895425,  0.57429972,  0.        ,\n",
       "         0.        ,  0.        ,  0.        ],\n",
       "       [ 0.        ,  0.        ,  0.        ,  0.68464052,  0.73479135,\n",
       "         0.70130719,  0.71895425,  0.71895425,  0.57429972,  0.        ,\n",
       "         0.        ,  0.        ,  0.        ],\n",
       "       [ 0.        ,  0.        ,  0.68464052,  0.73479135,  0.70130719,\n",
       "         0.70130719,  0.71895425,  0.71895425,  0.57429972,  0.        ,\n",
       "         0.        ,  0.        ,  0.        ],\n",
       "       [ 0.        ,  0.68464052,  0.73479135,  0.70130719,  0.70130719,\n",
       "         0.70130719,  0.71895425,  0.71895425,  0.57429972,  0.        ,\n",
       "         0.        ,  0.        ,  0.        ],\n",
       "       [ 0.66666667,  0.70537959,  0.70130719,  0.70130719,  0.70130719,\n",
       "         0.70130719,  0.71895425,  0.71895425,  0.57429972,  0.        ,\n",
       "         0.        ,  0.        ,  0.        ],\n",
       "       [ 0.69379085,  0.70130719,  0.70130719,  0.70130719,  0.70130719,\n",
       "         0.70130719,  0.71895425,  0.71895425,  0.57429972,  0.        ,\n",
       "         0.        ,  0.        ,  0.        ],\n",
       "       [ 0.62857143,  0.70718954,  0.70130719,  0.70130719,  0.70130719,\n",
       "         0.70130719,  0.71895425,  0.71895425,  0.57429972,  0.        ,\n",
       "         0.        ,  0.        ,  0.        ],\n",
       "       [ 0.66323529,  0.70718954,  0.70130719,  0.70130719,  0.70130719,\n",
       "         0.70130719,  0.71895425,  0.71895425,  0.57429972,  0.        ,\n",
       "         0.        ,  0.        ,  0.        ],\n",
       "       [ 0.66323529,  0.70718954,  0.70130719,  0.70130719,  0.70130719,\n",
       "         0.70130719,  0.71895425,  0.71895425,  0.57429972,  0.        ,\n",
       "         0.        ,  0.        ,  0.        ]])"
      ]
     },
     "execution_count": 18,
     "metadata": {},
     "output_type": "execute_result"
    }
   ],
   "source": [
    "scores = [x[1] for x in grid.grid_scores_]\n",
    "scores = np.array(scores).reshape(len(C_range), len(gamma_range))\n",
    "scores"
   ]
  },
  {
   "cell_type": "code",
   "execution_count": 19,
   "metadata": {
    "collapsed": false
   },
   "outputs": [
    {
     "data": {
      "image/png": "[encoded data removed]",
      "text/plain": [
       "<matplotlib.figure.Figure at 0x7ff6c006a390>"
      ]
     },
     "metadata": {},
     "output_type": "display_data"
    }
   ],
   "source": [
    "import matplotlib.pyplot as plt\n",
    "\n",
    "cax = plt.imshow(scores, interpolation=\"nearest\", cmap=plt.cm.hot)\n",
    "plt.xticks(np.arange(len(gamma_range)), gamma_range, rotation=45)\n",
    "plt.xlabel('gamma')\n",
    "plt.yticks(np.arange(len(C_range)), C_range)\n",
    "plt.ylabel('C')\n",
    "plt.title('Validation accuracy')\n",
    "\n",
    "cbar = plt.colorbar(cax, ticks=[np.min(scores), np.mean(scores), np.max(scores)])\n",
    "\n",
    "plt.show()"
   ]
  },
  {
   "cell_type": "code",
   "execution_count": 20,
   "metadata": {
    "collapsed": false
   },
   "outputs": [
    {
     "data": {
      "text/plain": [
       "(13, 13)"
      ]
     },
     "execution_count": 20,
     "metadata": {},
     "output_type": "execute_result"
    }
   ],
   "source": [
    "scores.shape"
   ]
  },
  {
   "cell_type": "code",
   "execution_count": 21,
   "metadata": {
    "collapsed": false
   },
   "outputs": [
    {
     "data": {
      "text/plain": [
       "0.73479135243841132"
      ]
     },
     "execution_count": 21,
     "metadata": {},
     "output_type": "execute_result"
    }
   ],
   "source": [
    "np.max(scores)"
   ]
  },
  {
   "cell_type": "code",
   "execution_count": 22,
   "metadata": {
    "collapsed": false
   },
   "outputs": [
    {
     "data": {
      "text/plain": [
       "0.71289592760181009"
      ]
     },
     "execution_count": 22,
     "metadata": {},
     "output_type": "execute_result"
    }
   ],
   "source": [
    "C = C_range[2]\n",
    "gamma = gamma_range[7]\n",
    "scores[2][7]"
   ]
  },
  {
   "cell_type": "markdown",
   "metadata": {},
   "source": [
    "##Try Lower Dimensionality"
   ]
  },
  {
   "cell_type": "code",
   "execution_count": 23,
   "metadata": {
    "collapsed": false
   },
   "outputs": [],
   "source": [
    "anovas_450 = FeatureUnion([ (m, new_anova(m, k=150)) for m in index_map])\n",
    "feature_selection_svc_450 = Pipeline([('feature_selection', anovas_450), ('svc', SVC())])\n",
    "grid_450 = GridSearchCV(feature_selection_svc_450, param_grid=param_grid, cv=cv, scoring = scorer)"
   ]
  },
  {
   "cell_type": "code",
   "execution_count": 24,
   "metadata": {
    "collapsed": false
   },
   "outputs": [],
   "source": [
    "from sklearn.grid_search import RandomizedSearchCV\n",
    "random_450 = RandomizedSearchCV(feature_selection_svc_450, param_distributions=param_grid, cv=cv, scoring = scorer)"
   ]
  },
  {
   "cell_type": "code",
   "execution_count": 25,
   "metadata": {
    "collapsed": false
   },
   "outputs": [
    {
     "name": "stdout",
     "output_type": "stream",
     "text": [
      "############################################################"
     ]
    },
    {
     "data": {
      "text/plain": [
       "RandomizedSearchCV(cv=sklearn.cross_validation.StratifiedKFold(labels=[1 1 ..., 0 0], n_folds=6, shuffle=False, random_state=None),\n",
       "          error_score='raise',\n",
       "          estimator=Pipeline(steps=[('feature_selection', FeatureUnion(n_jobs=1,\n",
       "       transformer_list=[('fa', Pipeline(steps=[('columns', ColumnSelector(col_indexes=(134263, 268526))), ('anova', SelectKBest(k=150, score_func=<function f_classif at 0x7ff692727230>))])), ('dmean', Pipeline(steps=[('columns', ColumnSelector(col...f', max_iter=-1, probability=False, random_state=None,\n",
       "  shrinking=True, tol=0.001, verbose=False))]),\n",
       "          fit_params={}, iid=True, n_iter=10, n_jobs=1,\n",
       "          param_distributions={'svc__gamma': array([  1.00000e-09,   1.00000e-08,   1.00000e-07,   1.00000e-06,\n",
       "         1.00000e-05,   1.00000e-04,   1.00000e-03,   1.00000e-02,\n",
       "         1.00000e-01,   1.00000e+00,   1.00000e+01,   1.00000e+02,\n",
       "         1.00000e+03]), 'svc__C': array([  1.00000e-02,   1.00000e-01,   1.00000e+00,   1.00000e+01,\n",
       "         1.00000e+02,   1.00000e+03,   1.00000e+04,   1.00000e+05,\n",
       "         1.00000e+06,   1.00000e+07,   1.00000e+08,   1.00000e+09,\n",
       "         1.00000e+10])},\n",
       "          pre_dispatch='2*n_jobs', random_state=None, refit=True,\n",
       "          scoring=make_scorer(verbose_score_fn), verbose=0)"
      ]
     },
     "execution_count": 25,
     "metadata": {},
     "output_type": "execute_result"
    }
   ],
   "source": [
    "random_450.fit(mat, labels)"
   ]
  },
  {
   "cell_type": "code",
   "execution_count": 26,
   "metadata": {
    "collapsed": false
   },
   "outputs": [
    {
     "data": {
      "text/plain": [
       "[mean: 0.00000, std: 0.00000, params: {'svc__gamma': 10.0, 'svc__C': 10000000000.0},\n",
       " mean: 0.00000, std: 0.00000, params: {'svc__gamma': 1.0000000000000001e-05, 'svc__C': 10.0},\n",
       " mean: 0.43336, std: 0.21426, params: {'svc__gamma': 0.001, 'svc__C': 1.0},\n",
       " mean: 0.00000, std: 0.00000, params: {'svc__gamma': 1.0, 'svc__C': 10000000.0},\n",
       " mean: 0.69697, std: 0.14559, params: {'svc__gamma': 1.0000000000000001e-05, 'svc__C': 1000000.0},\n",
       " mean: 0.00000, std: 0.00000, params: {'svc__gamma': 100.0, 'svc__C': 100000000.0},\n",
       " mean: 0.74412, std: 0.14642, params: {'svc__gamma': 1e-08, 'svc__C': 10000000000.0},\n",
       " mean: 0.69621, std: 0.18814, params: {'svc__gamma': 1.0000000000000001e-09, 'svc__C': 10000000.0},\n",
       " mean: 0.43336, std: 0.21426, params: {'svc__gamma': 0.0001, 'svc__C': 10.0},\n",
       " mean: 0.00000, std: 0.00000, params: {'svc__gamma': 1e-08, 'svc__C': 1000.0}]"
      ]
     },
     "execution_count": 26,
     "metadata": {},
     "output_type": "execute_result"
    }
   ],
   "source": [
    "random_450.grid_scores_"
   ]
  },
  {
   "cell_type": "markdown",
   "metadata": {},
   "source": [
    "##Explore if PCA can Better Select Features"
   ]
  },
  {
   "cell_type": "code",
   "execution_count": 27,
   "metadata": {
    "collapsed": false
   },
   "outputs": [],
   "source": [
    "from sklearn.decomposition import PCA"
   ]
  },
  {
   "cell_type": "code",
   "execution_count": 28,
   "metadata": {
    "collapsed": false
   },
   "outputs": [
    {
     "data": {
      "text/plain": [
       "PCA(copy=True, n_components=20, whiten=False)"
      ]
     },
     "execution_count": 28,
     "metadata": {},
     "output_type": "execute_result"
    }
   ],
   "source": [
    "pca = PCA(n_components=20)\n",
    "pca.fit(mat, labels)"
   ]
  },
  {
   "cell_type": "code",
   "execution_count": 29,
   "metadata": {
    "collapsed": false
   },
   "outputs": [
    {
     "data": {
      "text/plain": [
       "array([ 0.21797068,  0.08451933,  0.04719787,  0.03515985,  0.03011981,\n",
       "        0.0236962 ,  0.02220851,  0.02181247,  0.01787787,  0.01699752,\n",
       "        0.01645817,  0.01575456,  0.01452591,  0.01401594,  0.0135983 ,\n",
       "        0.01271394,  0.01239047,  0.01220256,  0.01198456,  0.01153273], dtype=float32)"
      ]
     },
     "execution_count": 29,
     "metadata": {},
     "output_type": "execute_result"
    }
   ],
   "source": [
    "pca.explained_variance_ratio_"
   ]
  },
  {
   "cell_type": "code",
   "execution_count": 30,
   "metadata": {
    "collapsed": false
   },
   "outputs": [
    {
     "data": {
      "text/plain": [
       "0.65273732"
      ]
     },
     "execution_count": 30,
     "metadata": {},
     "output_type": "execute_result"
    }
   ],
   "source": [
    "np.sum(pca.explained_variance_ratio_)"
   ]
  },
  {
   "cell_type": "markdown",
   "metadata": {},
   "source": [
    "__Each new dimension still capturing variance, increase a little more__"
   ]
  },
  {
   "cell_type": "code",
   "execution_count": 31,
   "metadata": {
    "collapsed": false
   },
   "outputs": [
    {
     "name": "stderr",
     "output_type": "stream",
     "text": [
      "/usr/local/anaconda/lib/python2.7/site-packages/numpy/core/_methods.py:59: RuntimeWarning: Mean of empty slice.\n",
      "  warnings.warn(\"Mean of empty slice.\", RuntimeWarning)\n"
     ]
    },
    {
     "data": {
      "text/plain": [
       "PCA(copy=True, n_components=100, whiten=False)"
      ]
     },
     "execution_count": 31,
     "metadata": {},
     "output_type": "execute_result"
    }
   ],
   "source": [
    "pca = PCA(n_components=100)\n",
    "pca.fit(mat, labels)"
   ]
  },
  {
   "cell_type": "code",
   "execution_count": 32,
   "metadata": {
    "collapsed": false
   },
   "outputs": [
    {
     "data": {
      "text/plain": [
       "array([  2.17970684e-01,   8.45193341e-02,   4.71978672e-02,\n",
       "         3.51598524e-02,   3.01198121e-02,   2.36961972e-02,\n",
       "         2.22085081e-02,   2.18124725e-02,   1.78778730e-02,\n",
       "         1.69975199e-02,   1.64581705e-02,   1.57545581e-02,\n",
       "         1.45259099e-02,   1.40159409e-02,   1.35983005e-02,\n",
       "         1.27139352e-02,   1.23904739e-02,   1.22025600e-02,\n",
       "         1.19845578e-02,   1.15327295e-02,   1.12301540e-02,\n",
       "         1.11266794e-02,   1.07760346e-02,   1.05246492e-02,\n",
       "         1.03212334e-02,   1.00578163e-02,   9.74796712e-03,\n",
       "         9.49515309e-03,   9.31263342e-03,   9.19554941e-03,\n",
       "         8.91812705e-03,   8.86134245e-03,   8.52060784e-03,\n",
       "         8.32910370e-03,   8.20756424e-03,   8.15869682e-03,\n",
       "         7.93681946e-03,   7.91312288e-03,   7.77330203e-03,\n",
       "         7.58283306e-03,   7.53953774e-03,   7.50652794e-03,\n",
       "         7.35501293e-03,   7.31272809e-03,   7.06428988e-03,\n",
       "         6.98405784e-03,   6.87036617e-03,   6.69304002e-03,\n",
       "         6.63704192e-03,   6.56195078e-03,   6.48630038e-03,\n",
       "         6.45300653e-03,   6.18399540e-03,   6.06649881e-03,\n",
       "         5.92927542e-03,   5.88464877e-03,   5.69709204e-03,\n",
       "         5.61237335e-03,   5.49492845e-03,   5.41523378e-03,\n",
       "         5.39877452e-03,   5.26726292e-03,   4.94596455e-03,\n",
       "         4.92497627e-03,   4.48360713e-03,   4.33739088e-03,\n",
       "         4.16738307e-03,   1.67832068e-11], dtype=float32)"
      ]
     },
     "execution_count": 32,
     "metadata": {},
     "output_type": "execute_result"
    }
   ],
   "source": [
    "pca.explained_variance_ratio_"
   ]
  },
  {
   "cell_type": "code",
   "execution_count": 33,
   "metadata": {
    "collapsed": false
   },
   "outputs": [
    {
     "data": {
      "text/plain": [
       "0.99999988"
      ]
     },
     "execution_count": 33,
     "metadata": {},
     "output_type": "execute_result"
    }
   ],
   "source": [
    "np.sum(pca.explained_variance_ratio_)"
   ]
  },
  {
   "cell_type": "code",
   "execution_count": 34,
   "metadata": {
    "collapsed": false
   },
   "outputs": [
    {
     "data": {
      "image/png": "[encoded data removed]",
      "text/plain": [
       "<matplotlib.figure.Figure at 0x7ff68e161590>"
      ]
     },
     "metadata": {},
     "output_type": "display_data"
    }
   ],
   "source": [
    "import matplotlib.pyplot as plt\n",
    "plt.plot(pca.explained_variance_ratio_)\n",
    "plt.show()"
   ]
  },
  {
   "cell_type": "code",
   "execution_count": 35,
   "metadata": {
    "collapsed": false
   },
   "outputs": [
    {
     "data": {
      "text/plain": [
       "0.99149513"
      ]
     },
     "execution_count": 35,
     "metadata": {},
     "output_type": "execute_result"
    }
   ],
   "source": [
    "np.sum(pca.explained_variance_ratio_[:65])"
   ]
  },
  {
   "cell_type": "markdown",
   "metadata": {},
   "source": [
    "_We Are Able to Capture Almost all variance with 65 dimensions, we may use this later._"
   ]
  },
  {
   "cell_type": "markdown",
   "metadata": {},
   "source": [
    "##Calculate Confusion Matrix"
   ]
  },
  {
   "cell_type": "code",
   "execution_count": 36,
   "metadata": {
    "collapsed": false
   },
   "outputs": [
    {
     "name": "stdout",
     "output_type": "stream",
     "text": [
      "####\n",
      "####\n",
      "####\n",
      "####\n",
      "####\n",
      "####\n"
     ]
    }
   ],
   "source": [
    "labels_arr = np.array(labels)\n",
    "\n",
    "feature_selection_svc.set_params(svc__C=C, svc__gamma=gamma)\n",
    "\n",
    "cv_info, cv_info_train = epi_prediction.verbose_cv(mat, \n",
    "                                                   labels_arr, \n",
    "                                                   feature_selection_svc,\n",
    "                                                   n_folds=n_folds,\n",
    "                                                   verbose=False)"
   ]
  },
  {
   "cell_type": "code",
   "execution_count": 37,
   "metadata": {
    "collapsed": false
   },
   "outputs": [
    {
     "data": {
      "text/plain": [
       "0.71293706293706294"
      ]
     },
     "execution_count": 37,
     "metadata": {},
     "output_type": "execute_result"
    }
   ],
   "source": [
    "cv_info.avg_f1_score()"
   ]
  },
  {
   "cell_type": "code",
   "execution_count": 38,
   "metadata": {
    "collapsed": false
   },
   "outputs": [
    {
     "data": {
      "text/plain": [
       "array([[28,  8],\n",
       "       [ 9, 23]])"
      ]
     },
     "execution_count": 38,
     "metadata": {},
     "output_type": "execute_result"
    }
   ],
   "source": [
    "cv_info.confusion_matrix()"
   ]
  },
  {
   "cell_type": "code",
   "execution_count": 39,
   "metadata": {
    "collapsed": false
   },
   "outputs": [
    {
     "data": {
      "text/plain": [
       "array([[ 0.77777778,  0.22222222],\n",
       "       [ 0.28125   ,  0.71875   ]])"
      ]
     },
     "execution_count": 39,
     "metadata": {},
     "output_type": "execute_result"
    }
   ],
   "source": [
    "cv_info.normalized_confusion_matrix()"
   ]
  },
  {
   "cell_type": "code",
   "execution_count": 40,
   "metadata": {
    "collapsed": false
   },
   "outputs": [
    {
     "data": {
      "image/png": "[encoded data removed]",
      "text/plain": [
       "<matplotlib.figure.Figure at 0x7ff68dfbec10>"
      ]
     },
     "metadata": {},
     "output_type": "display_data"
    }
   ],
   "source": [
    "epi_prediction.plot_confusion_matrix(cv_info.normalized_confusion_matrix(), \n",
    "                      title=\"Combined Modalities Confusion Matrix\")"
   ]
  },
  {
   "cell_type": "markdown",
   "metadata": {},
   "source": [
    "##Try Just Best 500 instead of 1500"
   ]
  },
  {
   "cell_type": "code",
   "execution_count": 41,
   "metadata": {
    "collapsed": false
   },
   "outputs": [],
   "source": [
    "k = 500\n",
    "feature_selection = SelectKBest(f_classif, k=k)\n",
    "svc = SVC()\n",
    "anova_500_svc = Pipeline([('anova', feature_selection), ('svc', svc)])"
   ]
  },
  {
   "cell_type": "code",
   "execution_count": 42,
   "metadata": {
    "collapsed": false
   },
   "outputs": [
    {
     "name": "stdout",
     "output_type": "stream",
     "text": [
      "------------------------------------------------------------------------------------------------------------------------------------------------------------------------------------------------------------------------------------------------------------------------------------------------------------------------------------------------------------------------------------------------------------------------------------------------------------------------------------------------------------------------------------------------------------------------------------------------------------------------------------------------------------------------------------------------------------------------------------------------------------------------------------------------------------------------------------------------------------------------------------------------------------------------------------------------------------------------------------------------------------------------------------------------------\n",
      "######################################################################################################################################################################################################################################################################################################################################################################################################################################################################################################################################################################################################################################################################################################################################################################################################################################################################################################################################################################################################################################################"
     ]
    },
    {
     "data": {
      "text/plain": [
       "GridSearchCV(cv=sklearn.cross_validation.StratifiedKFold(labels=[1 1 ..., 0 0], n_folds=6, shuffle=False, random_state=None),\n",
       "       error_score='raise',\n",
       "       estimator=Pipeline(steps=[('anova', SelectKBest(k=500, score_func=<function f_classif at 0x7ff692727230>)), ('svc', SVC(C=1.0, cache_size=200, class_weight=None, coef0=0.0, degree=3, gamma=0.0,\n",
       "  kernel='rbf', max_iter=-1, probability=False, random_state=None,\n",
       "  shrinking=True, tol=0.001, verbose=False))]),\n",
       "       fit_params={}, iid=True, loss_func=None, n_jobs=1,\n",
       "       param_grid={'svc__gamma': array([  1.00000e-09,   1.00000e-08,   1.00000e-07,   1.00000e-06,\n",
       "         1.00000e-05,   1.00000e-04,   1.00000e-03,   1.00000e-02,\n",
       "         1.00000e-01,   1.00000e+00,   1.00000e+01,   1.00000e+02,\n",
       "         1.00000e+03]), 'svc__C': array([  1.00000e-02,   1.00000e-01,   1.00000e+00,   1.00000e+01,\n",
       "         1.00000e+02,   1.00000e+03,   1.00000e+04,   1.00000e+05,\n",
       "         1.00000e+06,   1.00000e+07,   1.00000e+08,   1.00000e+09,\n",
       "         1.00000e+10])},\n",
       "       pre_dispatch='2*n_jobs', refit=True, score_func=None,\n",
       "       scoring=make_scorer(verbose_score_fn), verbose=0)"
      ]
     },
     "execution_count": 42,
     "metadata": {},
     "output_type": "execute_result"
    }
   ],
   "source": [
    "scorer = epi_prediction.verbose_scorer(total_runs)\n",
    "grid_wmatter_500 = GridSearchCV(anova_500_svc, \n",
    "                            param_grid=param_grid, \n",
    "                            cv=cv, scoring = scorer)\n",
    "\n",
    "grid_wmatter_500.fit(mat, labels)"
   ]
  },
  {
   "cell_type": "code",
   "execution_count": 43,
   "metadata": {
    "collapsed": false
   },
   "outputs": [
    {
     "data": {
      "text/plain": [
       "array([[ 0.        ,  0.        ,  0.        ,  0.        ,  0.        ,\n",
       "         0.        ,  0.        ,  0.        ,  0.        ,  0.        ,\n",
       "         0.        ,  0.        ,  0.        ],\n",
       "       [ 0.        ,  0.        ,  0.        ,  0.        ,  0.        ,\n",
       "         0.        ,  0.        ,  0.        ,  0.67491087,  0.        ,\n",
       "         0.        ,  0.        ,  0.        ],\n",
       "       [ 0.        ,  0.        ,  0.        ,  0.        ,  0.        ,\n",
       "         0.        ,  0.        ,  0.67491087,  0.69353832,  0.70309821,\n",
       "         0.        ,  0.        ,  0.        ],\n",
       "       [ 0.        ,  0.        ,  0.        ,  0.        ,  0.        ,\n",
       "         0.        ,  0.67491087,  0.70637255,  0.68888146,  0.70309821,\n",
       "         0.        ,  0.        ,  0.        ],\n",
       "       [ 0.        ,  0.        ,  0.        ,  0.        ,  0.        ,\n",
       "         0.67491087,  0.69166667,  0.67818627,  0.68888146,  0.70309821,\n",
       "         0.        ,  0.        ,  0.        ],\n",
       "       [ 0.        ,  0.        ,  0.        ,  0.        ,  0.67491087,\n",
       "         0.69166667,  0.67818627,  0.67818627,  0.68888146,  0.70309821,\n",
       "         0.        ,  0.        ,  0.        ],\n",
       "       [ 0.        ,  0.        ,  0.        ,  0.67491087,  0.69166667,\n",
       "         0.67818627,  0.67818627,  0.67818627,  0.68888146,  0.70309821,\n",
       "         0.        ,  0.        ,  0.        ],\n",
       "       [ 0.        ,  0.        ,  0.67491087,  0.69166667,  0.67818627,\n",
       "         0.67818627,  0.67818627,  0.67818627,  0.68888146,  0.70309821,\n",
       "         0.        ,  0.        ,  0.        ],\n",
       "       [ 0.        ,  0.67491087,  0.70637255,  0.67818627,  0.67818627,\n",
       "         0.67818627,  0.67818627,  0.67818627,  0.68888146,  0.70309821,\n",
       "         0.        ,  0.        ,  0.        ],\n",
       "       [ 0.65041478,  0.73578431,  0.67818627,  0.67818627,  0.67818627,\n",
       "         0.67818627,  0.67818627,  0.67818627,  0.68888146,  0.70309821,\n",
       "         0.        ,  0.        ,  0.        ],\n",
       "       [ 0.64795009,  0.67025401,  0.67818627,  0.67818627,  0.67818627,\n",
       "         0.67818627,  0.67818627,  0.67818627,  0.68888146,  0.70309821,\n",
       "         0.        ,  0.        ,  0.        ],\n",
       "       [ 0.65775401,  0.68126114,  0.67818627,  0.67818627,  0.67818627,\n",
       "         0.67818627,  0.67818627,  0.67818627,  0.68888146,  0.70309821,\n",
       "         0.        ,  0.        ,  0.        ],\n",
       "       [ 0.65775401,  0.66778075,  0.67818627,  0.67818627,  0.67818627,\n",
       "         0.67818627,  0.67818627,  0.67818627,  0.68888146,  0.70309821,\n",
       "         0.        ,  0.        ,  0.        ]])"
      ]
     },
     "execution_count": 43,
     "metadata": {},
     "output_type": "execute_result"
    }
   ],
   "source": [
    "scores = [x[1] for x in grid_wmatter_500.grid_scores_]\n",
    "scores = np.array(scores).reshape(len(C_range), len(gamma_range))\n",
    "scores"
   ]
  },
  {
   "cell_type": "code",
   "execution_count": 44,
   "metadata": {
    "collapsed": false
   },
   "outputs": [
    {
     "data": {
      "image/png": "[encoded data removed]",
      "text/plain": [
       "<matplotlib.figure.Figure at 0x7ff68de967d0>"
      ]
     },
     "metadata": {},
     "output_type": "display_data"
    }
   ],
   "source": [
    "cax = plt.imshow(scores, interpolation=\"nearest\", cmap=plt.cm.hot)\n",
    "plt.xticks(np.arange(len(gamma_range)), gamma_range, rotation=45)\n",
    "plt.xlabel('gamma')\n",
    "plt.yticks(np.arange(len(C_range)), C_range)\n",
    "plt.ylabel('C')\n",
    "plt.title('Validation accuracy')\n",
    "\n",
    "cbar = plt.colorbar(cax, ticks=[np.min(scores), np.mean(scores), np.max(scores)])\n",
    "\n",
    "plt.show()"
   ]
  },
  {
   "cell_type": "code",
   "execution_count": 45,
   "metadata": {
    "collapsed": false
   },
   "outputs": [
    {
     "data": {
      "text/plain": [
       "0.67491087344028511"
      ]
     },
     "execution_count": 45,
     "metadata": {},
     "output_type": "execute_result"
    }
   ],
   "source": [
    "C = C_range[8]\n",
    "gamma = gamma_range[1]\n",
    "scores[8][1]"
   ]
  },
  {
   "cell_type": "code",
   "execution_count": 46,
   "metadata": {
    "collapsed": false
   },
   "outputs": [
    {
     "data": {
      "text/plain": [
       "<module 'epi_prediction' from 'epi_prediction.pyc'>"
      ]
     },
     "execution_count": 46,
     "metadata": {},
     "output_type": "execute_result"
    }
   ],
   "source": [
    "reload(epi_prediction)"
   ]
  },
  {
   "cell_type": "code",
   "execution_count": 47,
   "metadata": {
    "collapsed": false
   },
   "outputs": [],
   "source": [
    "white_matter = epi_prediction.SimpleMasker('masks/white.nii', .2)"
   ]
  },
  {
   "cell_type": "markdown",
   "metadata": {},
   "source": [
    "##Unsatisfactory Results, need new way to combine"
   ]
  },
  {
   "cell_type": "markdown",
   "metadata": {},
   "source": [
    "__Will Try Combining Probalities from the SVM Outputs__"
   ]
  },
  {
   "cell_type": "markdown",
   "metadata": {},
   "source": [
    "_Know the Best Params for Each SVM from other experiments_"
   ]
  },
  {
   "cell_type": "code",
   "execution_count": 48,
   "metadata": {
    "collapsed": false
   },
   "outputs": [],
   "source": [
    "svc_params_map = dict(dmean=dict(C=.01),\n",
    "                      kmean=dict(C=1),\n",
    "                      fa=dict(C=.1))"
   ]
  },
  {
   "cell_type": "code",
   "execution_count": 49,
   "metadata": {
    "collapsed": false
   },
   "outputs": [],
   "source": [
    "def new_anova_and_svc(mod, k=500): \n",
    "    svc = SVC()\n",
    "    svc.kernel='linear'\n",
    "    svc.C = svc_params_map[mod]['C']\n",
    "    svc.probability=True\n",
    "    return Pipeline([\n",
    "        ('columns', epi_prediction.ColumnSelector(index_map[mod])),\n",
    "        ('anova', SelectKBest(k=k)),\n",
    "        ('svc', svc)\n",
    "    ])\n",
    "    \n",
    "svcs = [new_anova_and_svc(m) for m in index_map]"
   ]
  },
  {
   "cell_type": "code",
   "execution_count": 50,
   "metadata": {
    "collapsed": false
   },
   "outputs": [],
   "source": [
    "combined_alg = epi_prediction.ProbableBinaryEnsembleAlg(svcs)"
   ]
  },
  {
   "cell_type": "code",
   "execution_count": 51,
   "metadata": {
    "collapsed": false
   },
   "outputs": [
    {
     "name": "stdout",
     "output_type": "stream",
     "text": [
      "####\n",
      "####\n",
      "####\n",
      "####\n",
      "####\n",
      "####\n"
     ]
    }
   ],
   "source": [
    "cv_combos, cv_combos_train = epi_prediction.verbose_cv(mat, labels_arr, combined_alg, n_folds=6, verbose=False)"
   ]
  },
  {
   "cell_type": "code",
   "execution_count": 52,
   "metadata": {
    "collapsed": false
   },
   "outputs": [
    {
     "data": {
      "text/plain": [
       "<module 'epi_prediction' from 'epi_prediction.pyc'>"
      ]
     },
     "execution_count": 52,
     "metadata": {},
     "output_type": "execute_result"
    }
   ],
   "source": [
    "reload(epi_prediction)"
   ]
  },
  {
   "cell_type": "code",
   "execution_count": 53,
   "metadata": {
    "collapsed": false
   },
   "outputs": [
    {
     "data": {
      "text/plain": [
       "0.74020979020979016"
      ]
     },
     "execution_count": 53,
     "metadata": {},
     "output_type": "execute_result"
    }
   ],
   "source": [
    "cv_combos.avg_f1_score()"
   ]
  },
  {
   "cell_type": "code",
   "execution_count": 54,
   "metadata": {
    "collapsed": false
   },
   "outputs": [
    {
     "data": {
      "text/plain": [
       "array([[ 0.80555556,  0.19444444],\n",
       "       [ 0.25      ,  0.75      ]])"
      ]
     },
     "execution_count": 54,
     "metadata": {},
     "output_type": "execute_result"
    }
   ],
   "source": [
    "cv_combos.normalized_confusion_matrix()"
   ]
  },
  {
   "cell_type": "code",
   "execution_count": 55,
   "metadata": {
    "collapsed": false
   },
   "outputs": [
    {
     "data": {
      "text/plain": [
       "[0.92307692307692302,\n",
       " 0.59999999999999998,\n",
       " 0.90909090909090906,\n",
       " 0.59999999999999998,\n",
       " 0.5,\n",
       " 0.90909090909090906]"
      ]
     },
     "execution_count": 55,
     "metadata": {},
     "output_type": "execute_result"
    }
   ],
   "source": [
    "cv_combos.f1_scores()"
   ]
  },
  {
   "cell_type": "code",
   "execution_count": 56,
   "metadata": {
    "collapsed": false
   },
   "outputs": [
    {
     "data": {
      "image/png": "[encoded data removed]",
      "text/plain": [
       "<matplotlib.figure.Figure at 0x7ff68e04f090>"
      ]
     },
     "metadata": {},
     "output_type": "display_data"
    }
   ],
   "source": [
    "epi_prediction.plot_confusion_matrix(cv_combos.normalized_confusion_matrix(), \"Combined Modalities\")"
   ]
  },
  {
   "cell_type": "markdown",
   "metadata": {},
   "source": [
    "##Good Results, Lets Compare With Removing Modalities"
   ]
  },
  {
   "cell_type": "code",
   "execution_count": 57,
   "metadata": {
    "collapsed": false
   },
   "outputs": [
    {
     "data": {
      "text/plain": [
       "['fa', 'dmean', 'kmean']"
      ]
     },
     "execution_count": 57,
     "metadata": {},
     "output_type": "execute_result"
    }
   ],
   "source": [
    "[m for m in index_map]"
   ]
  },
  {
   "cell_type": "code",
   "execution_count": 58,
   "metadata": {
    "collapsed": false
   },
   "outputs": [],
   "source": [
    "svcs_no_kmean = [new_anova_and_svc(m) for m in ['fa', 'dmean']]"
   ]
  },
  {
   "cell_type": "code",
   "execution_count": 59,
   "metadata": {
    "collapsed": false
   },
   "outputs": [
    {
     "name": "stdout",
     "output_type": "stream",
     "text": [
      "####\n",
      "####\n",
      "####\n",
      "####\n",
      "####\n",
      "####\n"
     ]
    }
   ],
   "source": [
    "combined_alg_no_kmean = epi_prediction.ProbableBinaryEnsembleAlg(svcs_no_kmean)\n",
    "cv_combos_no_kmean, cv_combos_train_no_kmean = epi_prediction.verbose_cv(mat, \n",
    "                                                                         labels_arr, \n",
    "                                                                         combined_alg_no_kmean,\n",
    "                                                                         n_folds=6, \n",
    "                                                                         verbose=False)"
   ]
  },
  {
   "cell_type": "code",
   "execution_count": 60,
   "metadata": {
    "collapsed": false
   },
   "outputs": [
    {
     "data": {
      "text/plain": [
       "0.67520257520257509"
      ]
     },
     "execution_count": 60,
     "metadata": {},
     "output_type": "execute_result"
    }
   ],
   "source": [
    "cv_combos_no_kmean.avg_f1_score()"
   ]
  },
  {
   "cell_type": "code",
   "execution_count": 61,
   "metadata": {
    "collapsed": false
   },
   "outputs": [
    {
     "data": {
      "image/png": "[encoded data removed]",
      "text/plain": [
       "<matplotlib.figure.Figure at 0x7ff68dce9310>"
      ]
     },
     "metadata": {},
     "output_type": "display_data"
    }
   ],
   "source": [
    "epi_prediction.plot_confusion_matrix(cv_combos_no_kmean.normalized_confusion_matrix(), \"fa and dMean\")"
   ]
  },
  {
   "cell_type": "code",
   "execution_count": 62,
   "metadata": {
    "collapsed": false
   },
   "outputs": [
    {
     "data": {
      "text/plain": [
       "array([[ 0.77777778,  0.22222222],\n",
       "       [ 0.3125    ,  0.6875    ]])"
      ]
     },
     "execution_count": 62,
     "metadata": {},
     "output_type": "execute_result"
    }
   ],
   "source": [
    "cv_combos_no_kmean.normalized_confusion_matrix()"
   ]
  },
  {
   "cell_type": "markdown",
   "metadata": {},
   "source": [
    "_kMean is a major contributor, next examine contribution from other 2_"
   ]
  },
  {
   "cell_type": "code",
   "execution_count": 63,
   "metadata": {
    "collapsed": false
   },
   "outputs": [
    {
     "name": "stdout",
     "output_type": "stream",
     "text": [
      "####\n",
      "####\n",
      "####\n",
      "####\n",
      "####\n",
      "####\n"
     ]
    }
   ],
   "source": [
    "svcs_no_fa = [new_anova_and_svc(m) for m in ['kmean', 'dmean']]\n",
    "combined_alg_no_fa = epi_prediction.ProbableBinaryEnsembleAlg(svcs_no_fa)\n",
    "cv_combos_no_fa, cv_combos_train_no_fa = epi_prediction.verbose_cv(mat, \n",
    "                                                                   labels_arr, \n",
    "                                                                   combined_alg_no_fa,\n",
    "                                                                   n_folds=6, \n",
    "                                                                   verbose=False)"
   ]
  },
  {
   "cell_type": "code",
   "execution_count": 64,
   "metadata": {
    "collapsed": false
   },
   "outputs": [
    {
     "data": {
      "text/plain": [
       "0.70449550449550447"
      ]
     },
     "execution_count": 64,
     "metadata": {},
     "output_type": "execute_result"
    }
   ],
   "source": [
    "cv_combos_no_fa.avg_f1_score()"
   ]
  },
  {
   "cell_type": "code",
   "execution_count": 65,
   "metadata": {
    "collapsed": false
   },
   "outputs": [
    {
     "data": {
      "image/png": "[encoded data removed]",
      "text/plain": [
       "<matplotlib.figure.Figure at 0x7ff68f468390>"
      ]
     },
     "metadata": {},
     "output_type": "display_data"
    }
   ],
   "source": [
    "epi_prediction.plot_confusion_matrix(cv_combos_no_fa.normalized_confusion_matrix(), \"dmean and kmean\")"
   ]
  },
  {
   "cell_type": "code",
   "execution_count": 66,
   "metadata": {
    "collapsed": false
   },
   "outputs": [
    {
     "data": {
      "text/plain": [
       "array([[ 0.80555556,  0.19444444],\n",
       "       [ 0.28125   ,  0.71875   ]])"
      ]
     },
     "execution_count": 66,
     "metadata": {},
     "output_type": "execute_result"
    }
   ],
   "source": [
    "cv_combos_no_fa.normalized_confusion_matrix()"
   ]
  },
  {
   "cell_type": "markdown",
   "metadata": {},
   "source": [
    "_let's try one more time with no dmean_"
   ]
  },
  {
   "cell_type": "code",
   "execution_count": 67,
   "metadata": {
    "collapsed": false
   },
   "outputs": [
    {
     "name": "stdout",
     "output_type": "stream",
     "text": [
      "####\n",
      "####\n",
      "####\n",
      "####\n",
      "####\n",
      "####\n"
     ]
    }
   ],
   "source": [
    "svcs_no_dmean = [new_anova_and_svc(m) for m in ['kmean', 'fa']]\n",
    "combined_alg_no_dmean = epi_prediction.ProbableBinaryEnsembleAlg(svcs_no_dmean)\n",
    "cv_combos_no_dmean, cv_combos_train_no_dmean = epi_prediction.verbose_cv(mat, \n",
    "                                                                         labels_arr, \n",
    "                                                                         combined_alg_no_dmean,\n",
    "                                                                         n_folds=6, \n",
    "                                                                         verbose=False)"
   ]
  },
  {
   "cell_type": "code",
   "execution_count": 68,
   "metadata": {
    "collapsed": false
   },
   "outputs": [
    {
     "data": {
      "text/plain": [
       "0.70479797979797976"
      ]
     },
     "execution_count": 68,
     "metadata": {},
     "output_type": "execute_result"
    }
   ],
   "source": [
    "cv_combos_no_dmean.avg_f1_score()"
   ]
  },
  {
   "cell_type": "code",
   "execution_count": 69,
   "metadata": {
    "collapsed": false
   },
   "outputs": [
    {
     "data": {
      "text/plain": [
       "array([[ 0.77777778,  0.22222222],\n",
       "       [ 0.28125   ,  0.71875   ]])"
      ]
     },
     "execution_count": 69,
     "metadata": {},
     "output_type": "execute_result"
    }
   ],
   "source": [
    "cv_combos_no_dmean.normalized_confusion_matrix()"
   ]
  },
  {
   "cell_type": "code",
   "execution_count": 70,
   "metadata": {
    "collapsed": false
   },
   "outputs": [
    {
     "data": {
      "image/png": "[encoded data removed]",
      "text/plain": [
       "<matplotlib.figure.Figure at 0x7ff68f495790>"
      ]
     },
     "metadata": {},
     "output_type": "display_data"
    }
   ],
   "source": [
    "epi_prediction.plot_confusion_matrix(cv_combos_no_dmean.normalized_confusion_matrix(), \"kmean and fa\")"
   ]
  },
  {
   "cell_type": "code",
   "execution_count": null,
   "metadata": {
    "collapsed": false
   },
   "outputs": [],
   "source": []
  },
  {
   "cell_type": "code",
   "execution_count": null,
   "metadata": {
    "collapsed": false
   },
   "outputs": [],
   "source": []
  },
  {
   "cell_type": "code",
   "execution_count": null,
   "metadata": {
    "collapsed": false
   },
   "outputs": [],
   "source": []
  }
 ],
 "metadata": {
  "kernelspec": {
   "display_name": "Python 2",
   "language": "python",
   "name": "python2"
  },
  "language_info": {
   "codemirror_mode": {
    "name": "ipython",
    "version": 2
   },
   "file_extension": ".py",
   "mimetype": "text/x-python",
   "name": "python",
   "nbconvert_exporter": "python",
   "pygments_lexer": "ipython2",
   "version": "2.7.10"
  }
 },
 "nbformat": 4,
 "nbformat_minor": 0
}
