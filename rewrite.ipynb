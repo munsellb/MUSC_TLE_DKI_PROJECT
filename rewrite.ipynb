{
 "cells": [
  {
   "cell_type": "code",
   "execution_count": 87,
   "metadata": {
    "collapsed": false
   },
   "outputs": [
    {
     "name": "stdout",
     "output_type": "stream",
     "text": [
      "Populating the interactive namespace from numpy and matplotlib\n"
     ]
    },
    {
     "name": "stderr",
     "output_type": "stream",
     "text": [
      "WARNING: pylab import has clobbered these variables: ['f', 'matrix']\n",
      "`%matplotlib` prevents importing * from pylab and numpy\n"
     ]
    }
   ],
   "source": [
    "%pylab inline\n",
    "import os\n",
    "import epi_prediction\n",
    "import pandas as pd\n",
    "import nibabel as nib\n",
    "from nilearn import image # for resampling of wm mask\n"
   ]
  },
  {
   "cell_type": "markdown",
   "metadata": {},
   "source": [
    "##Building DataFrame of all nifti files with respect to modality"
   ]
  },
  {
   "cell_type": "code",
   "execution_count": 88,
   "metadata": {
    "collapsed": false
   },
   "outputs": [
    {
     "data": {
      "text/html": [
       "<div style=\"max-height:1000px;max-width:1500px;overflow:auto;\">\n",
       "<table border=\"1\" class=\"dataframe\">\n",
       "  <thead>\n",
       "    <tr style=\"text-align: right;\">\n",
       "      <th></th>\n",
       "      <th>dax</th>\n",
       "      <th>dmean</th>\n",
       "      <th>drad</th>\n",
       "      <th>fa</th>\n",
       "      <th>kax</th>\n",
       "      <th>kmean</th>\n",
       "      <th>krad</th>\n",
       "    </tr>\n",
       "  </thead>\n",
       "  <tbody>\n",
       "    <tr>\n",
       "      <th>cons</th>\n",
       "      <td>[/mnt/DKI_STUFF/modalities/dax/daxCON029.nii, ...</td>\n",
       "      <td>[/mnt/DKI_STUFF/modalities/dmean/dmeanCON043.n...</td>\n",
       "      <td>[]</td>\n",
       "      <td>[]</td>\n",
       "      <td>[]</td>\n",
       "      <td>[]</td>\n",
       "      <td>[]</td>\n",
       "    </tr>\n",
       "    <tr>\n",
       "      <th>pats</th>\n",
       "      <td>[/mnt/DKI_STUFF/modalities/dax/daxPAT072.nii, ...</td>\n",
       "      <td>[/mnt/DKI_STUFF/modalities/dmean/dmeanPAT078.n...</td>\n",
       "      <td>[]</td>\n",
       "      <td>[]</td>\n",
       "      <td>[]</td>\n",
       "      <td>[]</td>\n",
       "      <td>[]</td>\n",
       "    </tr>\n",
       "  </tbody>\n",
       "</table>\n",
       "</div>"
      ],
      "text/plain": [
       "                                                    dax  \\\n",
       "cons  [/mnt/DKI_STUFF/modalities/dax/daxCON029.nii, ...   \n",
       "pats  [/mnt/DKI_STUFF/modalities/dax/daxPAT072.nii, ...   \n",
       "\n",
       "                                                  dmean drad  fa kax kmean  \\\n",
       "cons  [/mnt/DKI_STUFF/modalities/dmean/dmeanCON043.n...   []  []  []    []   \n",
       "pats  [/mnt/DKI_STUFF/modalities/dmean/dmeanPAT078.n...   []  []  []    []   \n",
       "\n",
       "     krad  \n",
       "cons   []  \n",
       "pats   []  "
      ]
     },
     "execution_count": 88,
     "metadata": {},
     "output_type": "execute_result"
    }
   ],
   "source": [
    "base_dir = '/mnt/DKI_STUFF/modalities/'\n",
    "dirs = sorted(os.listdir(base_dir))\n",
    "df = pd.DataFrame(index=['cons','pats'],columns = dirs)\n",
    "for d in dirs:\n",
    "    path = '{}{}{}'.format(base_dir,d,'/')\n",
    "    df.set_value('cons',d,[path + d for d in os.listdir(path) if 'CON' in d])\n",
    "for d in dirs:\n",
    "    path = '{}{}{}'.format(base_dir,d,'/')\n",
    "    df.set_value('pats',d,[path + d for d in os.listdir(path) if 'PAT' in d])\n",
    "df"
   ]
  },
  {
   "cell_type": "code",
   "execution_count": 89,
   "metadata": {
    "collapsed": false
   },
   "outputs": [],
   "source": [
    "epi_paths = df"
   ]
  },
  {
   "cell_type": "markdown",
   "metadata": {
    "collapsed": false
   },
   "source": [
    "# $$We\\;Want\\;D_{mean}\\;,K_{mean},\\;F_{a}$$"
   ]
  },
  {
   "cell_type": "code",
   "execution_count": 90,
   "metadata": {
    "collapsed": false
   },
   "outputs": [],
   "source": [
    "def pats_than_cons(mod):\n",
    "    return epi_paths[mod]['pats'] + epi_paths[mod]['cons']\n",
    "# pats_than_cons = lambda mod: epi_paths[mod]['pats'] + epi_paths[mod]['cons']"
   ]
  },
  {
   "cell_type": "markdown",
   "metadata": {},
   "source": [
    "# Function to resample a mask to an epi's size"
   ]
  },
  {
   "cell_type": "code",
   "execution_count": 91,
   "metadata": {
    "collapsed": false
   },
   "outputs": [
    {
     "data": {
      "image/png": "[encoded data removed]",
      "text/plain": [
       "<matplotlib.figure.Figure at 0x7f6cf142c750>"
      ]
     },
     "metadata": {},
     "output_type": "display_data"
    }
   ],
   "source": [
    "white_matter = nib.load('/mnt/DKI_STUFF//code/masks/white.nii')\n",
    "\n",
    "# white matter and epi  is a nibabel nifti\n",
    "# returns resampled mask for that epi\n",
    "def create_mask(wm,epi,threshold =.5):\n",
    "    mask = image.resample_img(wm,target_shape=epi.shape, target_affine=epi.get_affine())\n",
    "    img = mask.get_data()\n",
    "    img[img > threshold] = 1.\n",
    "    img[img <= threshold] = 0.\n",
    "    return nib.Nifti1Image(img,eye(4))\n",
    "\n",
    "\n",
    "\n",
    "from nilearn.plotting import plot_img,plot_glass_brain\n",
    "f = plt.figure(figsize=(8,8))\n",
    "plot_glass_brain(white_matter,threshold=.5,figure = f)\n",
    "plt.show()"
   ]
  },
  {
   "cell_type": "code",
   "execution_count": 92,
   "metadata": {
    "collapsed": false
   },
   "outputs": [
    {
     "data": {
      "image/png": "[encoded data removed]",
      "text/plain": [
       "<matplotlib.figure.Figure at 0x7f6cf2758710>"
      ]
     },
     "metadata": {},
     "output_type": "display_data"
    }
   ],
   "source": [
    "f = plt.figure(figsize=(8,8))\n",
    "plot_img(white_matter,threshold=.5,figure = f)\n",
    "plt.show()"
   ]
  },
  {
   "cell_type": "code",
   "execution_count": 93,
   "metadata": {
    "collapsed": false
   },
   "outputs": [
    {
     "data": {
      "text/html": [
       "<div style=\"max-height:1000px;max-width:1500px;overflow:auto;\">\n",
       "<table border=\"1\" class=\"dataframe\">\n",
       "  <thead>\n",
       "    <tr style=\"text-align: right;\">\n",
       "      <th></th>\n",
       "      <th>dax</th>\n",
       "      <th>dmean</th>\n",
       "      <th>drad</th>\n",
       "      <th>fa</th>\n",
       "      <th>kax</th>\n",
       "      <th>kmean</th>\n",
       "      <th>krad</th>\n",
       "    </tr>\n",
       "  </thead>\n",
       "  <tbody>\n",
       "    <tr>\n",
       "      <th>cons</th>\n",
       "      <td>[/mnt/DKI_STUFF/modalities/dax/daxCON029.nii, ...</td>\n",
       "      <td>[/mnt/DKI_STUFF/modalities/dmean/dmeanCON043.n...</td>\n",
       "      <td>[]</td>\n",
       "      <td>[]</td>\n",
       "      <td>[]</td>\n",
       "      <td>[]</td>\n",
       "      <td>[]</td>\n",
       "    </tr>\n",
       "    <tr>\n",
       "      <th>pats</th>\n",
       "      <td>[/mnt/DKI_STUFF/modalities/dax/daxPAT072.nii, ...</td>\n",
       "      <td>[/mnt/DKI_STUFF/modalities/dmean/dmeanPAT078.n...</td>\n",
       "      <td>[]</td>\n",
       "      <td>[]</td>\n",
       "      <td>[]</td>\n",
       "      <td>[]</td>\n",
       "      <td>[]</td>\n",
       "    </tr>\n",
       "  </tbody>\n",
       "</table>\n",
       "</div>"
      ],
      "text/plain": [
       "                                                    dax  \\\n",
       "cons  [/mnt/DKI_STUFF/modalities/dax/daxCON029.nii, ...   \n",
       "pats  [/mnt/DKI_STUFF/modalities/dax/daxPAT072.nii, ...   \n",
       "\n",
       "                                                  dmean drad  fa kax kmean  \\\n",
       "cons  [/mnt/DKI_STUFF/modalities/dmean/dmeanCON043.n...   []  []  []    []   \n",
       "pats  [/mnt/DKI_STUFF/modalities/dmean/dmeanPAT078.n...   []  []  []    []   \n",
       "\n",
       "     krad  \n",
       "cons   []  \n",
       "pats   []  "
      ]
     },
     "execution_count": 93,
     "metadata": {},
     "output_type": "execute_result"
    }
   ],
   "source": [
    "epi_paths"
   ]
  },
  {
   "cell_type": "markdown",
   "metadata": {},
   "source": [
    "#Applying mask to all files"
   ]
  },
  {
   "cell_type": "code",
   "execution_count": 94,
   "metadata": {
    "collapsed": false,
    "scrolled": false
   },
   "outputs": [],
   "source": [
    "# from joblib import Parallel, delayed\n",
    "\n",
    "# def mask_list(row):\n",
    "#     ret = []\n",
    "#     count = 0\n",
    "#     for l in row:\n",
    "#         rrr = []\n",
    "#         for f in l:\n",
    "\n",
    "#             count += 1\n",
    "#             if count % 5 == 0:\n",
    "#                 print '{} files done'.format(count)\n",
    "#                 print f\n",
    "\n",
    "#         ret.append(rrr)\n",
    "#     print 'row done'\n",
    "#     return ret\n",
    "# def mask_list_mcpu(l):\n",
    "#     rrr = []\n",
    "#     for f in l:\n",
    "#         mask = create_mask(white_matter,nib.load(f))\n",
    "#         maskd = mask.get_data()\n",
    "#         curd = nib.load(f).get_data()\n",
    "#         curd = np.multiply(curd,maskd)\n",
    "#         rrr.append(nib.Nifti1Image(curd,eye(4)))\n",
    "#         count += 1\n",
    "#         if count % 5 == 0:\n",
    "#             print '{} files done'.format(count)\n",
    "#             print f\n",
    "#     return rrr\n",
    "\n",
    "# def mask_list_parallel(row):\n",
    "#     x = Parallel(n_jobs=1,verbose=100)(\n",
    "#             delayed(mask_list_mcpu)(\n",
    "#                 r_i) \n",
    "#                 for r_i in row)\n",
    "#     return x\n",
    "# # parallel = False\n",
    "# # if parallel:\n",
    "# #     dfz = epi_paths.apply(lambda row : mask_list_parallel(row),0)\n",
    "# # else:\n",
    "# #     dfz = epi_paths.dax.apply(lambda row : mask_list(row),0)\n",
    "\n",
    "# dfz = epi_paths.dax.apply(lambda row:mask_list_mcpu(row),0)\n",
    "dfz = epi_paths.dax"
   ]
  },
  {
   "cell_type": "code",
   "execution_count": 95,
   "metadata": {
    "collapsed": false
   },
   "outputs": [],
   "source": [
    "dfz.save('/mnt/DKI_STUFF/masked_data_dax.DF')"
   ]
  },
  {
   "cell_type": "code",
   "execution_count": null,
   "metadata": {
    "collapsed": false
   },
   "outputs": [],
   "source": []
  },
  {
   "cell_type": "markdown",
   "metadata": {
    "collapsed": false
   },
   "source": [
    "# Make matrices for each mode (kmean,fa,dmean)"
   ]
  },
  {
   "cell_type": "code",
   "execution_count": 110,
   "metadata": {
    "collapsed": false,
    "scrolled": true
   },
   "outputs": [
    {
     "name": "stdout",
     "output_type": "stream",
     "text": [
      "1\n",
      "2\n",
      "3\n",
      "4\n",
      "5\n",
      "6\n",
      "7\n",
      "8\n",
      "9\n",
      "10\n",
      "11\n",
      "12\n",
      "13\n",
      "14\n",
      "15\n",
      "16\n",
      "17\n",
      "18\n",
      "19\n",
      "20\n",
      "21\n",
      "22\n",
      "23\n",
      "24\n",
      "25\n",
      "26\n",
      "27\n",
      "28\n",
      "29\n",
      "30\n",
      "31\n",
      "32\n",
      "33\n",
      "34\n",
      "35\n",
      "36\n",
      "37\n",
      "38\n",
      "39\n",
      "40\n",
      "41\n",
      "42\n",
      "43\n",
      "44\n",
      "45\n",
      "46\n",
      "47\n",
      "48\n",
      "49\n",
      "50\n",
      "51\n",
      "52\n",
      "53\n",
      "54\n",
      "55\n",
      "56\n",
      "57\n",
      "58\n",
      "59\n",
      "60\n",
      "61\n",
      "62\n",
      "63\n",
      "64\n",
      "65\n",
      "66\n",
      "67\n",
      "68\n"
     ]
    }
   ],
   "source": [
    "import numpy as np\n",
    "# def create_nsubject_matrix(mode):\n",
    "#     matrix = []\n",
    "#     for li in df.iloc[mode]:\n",
    "#         for image in li:\n",
    "#             matrix.append(image.get_data().reshape((-1,1)))\n",
    "#     retrun np.array(matrix)\n",
    "\n",
    "matrix = []\n",
    "count = 0\n",
    "for li in dfz:\n",
    "    for img in li:\n",
    "        mask = create_mask(white_matter,nib.load(img))\n",
    "        maskd = mask.get_data()\n",
    "        curd = nib.load(img).get_data()\n",
    "        maskd = maskd.reshape((-1,1))\n",
    "        curd = curd.reshape((-1,1))\n",
    "        masked_arr = curd[maskd == 1]\n",
    "        matrix.append(row)\n",
    "        count += 1\n",
    "        print count"
   ]
  },
  {
   "cell_type": "code",
   "execution_count": 111,
   "metadata": {
    "collapsed": false
   },
   "outputs": [
    {
     "data": {
      "text/plain": [
       "(435702, 68)"
      ]
     },
     "execution_count": 111,
     "metadata": {},
     "output_type": "execute_result"
    }
   ],
   "source": [
    "stack_mat = hstack(matrix)\n",
    "stack_mat.shape"
   ]
  },
  {
   "cell_type": "code",
   "execution_count": null,
   "metadata": {
    "collapsed": false,
    "scrolled": true
   },
   "outputs": [],
   "source": []
  },
  {
   "cell_type": "markdown",
   "metadata": {
    "collapsed": false,
    "scrolled": true
   },
   "source": [
    "#Feature Selection"
   ]
  },
  {
   "cell_type": "markdown",
   "metadata": {},
   "source": [
    "##Create Feature Selection That Combines Modalities"
   ]
  },
  {
   "cell_type": "code",
   "execution_count": null,
   "metadata": {
    "collapsed": false
   },
   "outputs": [],
   "source": []
  },
  {
   "cell_type": "code",
   "execution_count": 113,
   "metadata": {
    "collapsed": false
   },
   "outputs": [],
   "source": [
    "# def new_anova(mod, k=500): \n",
    "#     return Pipeline([\n",
    "#         ('columns', epi_prediction.ColumnSelector(index_map[mod])),\n",
    "#         ('anova', SelectKBest(k=k))\n",
    "#     ])"
   ]
  },
  {
   "cell_type": "markdown",
   "metadata": {
    "collapsed": false
   },
   "source": []
  },
  {
   "cell_type": "code",
   "execution_count": 114,
   "metadata": {
    "collapsed": false
   },
   "outputs": [],
   "source": [
    "# from sklearn.pipeline import FeatureUnion\n",
    "\n",
    "# anovas = FeatureUnion([ (m, new_anova(m)) for m in index_map])"
   ]
  },
  {
   "cell_type": "markdown",
   "metadata": {},
   "source": [
    "##Initialize SVC PIPELINE"
   ]
  },
  {
   "cell_type": "code",
   "execution_count": 157,
   "metadata": {
    "collapsed": true
   },
   "outputs": [],
   "source": [
    "from nilearn.input_data import NiftiMasker\n",
    "from sklearn.cross_validation import StratifiedKFold, cross_val_score\n",
    "from sklearn.feature_selection import SelectKBest, f_classif\n",
    "from sklearn.pipeline import Pipeline\n",
    "from sklearn.svm import SVC\n",
    "\n",
    "from sklearn.grid_search import GridSearchCV\n",
    "from sklearn.cross_validation import LeaveOneOut"
   ]
  },
  {
   "cell_type": "code",
   "execution_count": 167,
   "metadata": {
    "collapsed": false
   },
   "outputs": [],
   "source": [
    "zzz = np.array([0] * 34).reshape((-1,1))\n",
    "ooo = np.array([1] * 34).reshape((-1,1))\n",
    "yyy = np.vstack((zzz,ooo))\n",
    "in_mat = stack_mat.T\n"
   ]
  },
  {
   "cell_type": "markdown",
   "metadata": {},
   "source": [
    "##Grid Search for Best Parameters of Gamma and C"
   ]
  },
  {
   "cell_type": "code",
   "execution_count": null,
   "metadata": {
    "collapsed": false
   },
   "outputs": [],
   "source": [
    "feature_selection_svc = Pipeline([\n",
    "        ('feature_selection', SelectKBest(k=500)), \n",
    "        ('svc', SVC())\n",
    "    ])\n",
    "\n",
    "\n",
    "C_range, gamma_range = [.1,1,2] ,np.logspace(-9, 3, 13)\n",
    "param_grid = dict(svc__gamma=gamma_range, svc__C=C_range)\n",
    "\n",
    "cv = LeaveOneOut(68)\n",
    "\n",
    "# total_runs = len(C_range) * len(gamma_range) * stack_mat.shape[1]\n",
    "# scorer = epi_prediction.verbose_scorer(total_runs)\n",
    "\n",
    "grid = GridSearchCV(feature_selection_svc, param_grid=param_grid,cv=cv)\n",
    "print in_mat.shape\n",
    "yyy = yyy.reshape((68))\n",
    "print yyy.shape\n",
    "grid.fit(in_mat,yyy)"
   ]
  },
  {
   "cell_type": "markdown",
   "metadata": {},
   "source": [
    "# post math anaylsis stuff"
   ]
  },
  {
   "cell_type": "code",
   "execution_count": 18,
   "metadata": {
    "collapsed": false
   },
   "outputs": [
    {
     "data": {
      "text/plain": [
       "array([[ 0.        ,  0.        ,  0.        ,  0.        ,  0.        ,\n",
       "         0.        ,  0.        ,  0.        ,  0.        ,  0.        ,\n",
       "         0.        ,  0.        ,  0.        ],\n",
       "       [ 0.        ,  0.        ,  0.        ,  0.        ,  0.        ,\n",
       "         0.        ,  0.        ,  0.41981793,  0.        ,  0.        ,\n",
       "         0.        ,  0.        ,  0.        ],\n",
       "       [ 0.        ,  0.        ,  0.        ,  0.        ,  0.        ,\n",
       "         0.        ,  0.68464052,  0.71289593,  0.59601918,  0.        ,\n",
       "         0.        ,  0.        ,  0.        ],\n",
       "       [ 0.        ,  0.        ,  0.        ,  0.        ,  0.        ,\n",
       "         0.68464052,  0.73479135,  0.71895425,  0.57429972,  0.        ,\n",
       "         0.        ,  0.        ,  0.        ],\n",
       "       [ 0.        ,  0.        ,  0.        ,  0.        ,  0.68464052,\n",
       "         0.73479135,  0.71895425,  0.71895425,  0.57429972,  0.        ,\n",
       "         0.        ,  0.        ,  0.        ],\n",
       "       [ 0.        ,  0.        ,  0.        ,  0.68464052,  0.73479135,\n",
       "         0.70130719,  0.71895425,  0.71895425,  0.57429972,  0.        ,\n",
       "         0.        ,  0.        ,  0.        ],\n",
       "       [ 0.        ,  0.        ,  0.68464052,  0.73479135,  0.70130719,\n",
       "         0.70130719,  0.71895425,  0.71895425,  0.57429972,  0.        ,\n",
       "         0.        ,  0.        ,  0.        ],\n",
       "       [ 0.        ,  0.68464052,  0.73479135,  0.70130719,  0.70130719,\n",
       "         0.70130719,  0.71895425,  0.71895425,  0.57429972,  0.        ,\n",
       "         0.        ,  0.        ,  0.        ],\n",
       "       [ 0.66666667,  0.70537959,  0.70130719,  0.70130719,  0.70130719,\n",
       "         0.70130719,  0.71895425,  0.71895425,  0.57429972,  0.        ,\n",
       "         0.        ,  0.        ,  0.        ],\n",
       "       [ 0.69379085,  0.70130719,  0.70130719,  0.70130719,  0.70130719,\n",
       "         0.70130719,  0.71895425,  0.71895425,  0.57429972,  0.        ,\n",
       "         0.        ,  0.        ,  0.        ],\n",
       "       [ 0.62857143,  0.70718954,  0.70130719,  0.70130719,  0.70130719,\n",
       "         0.70130719,  0.71895425,  0.71895425,  0.57429972,  0.        ,\n",
       "         0.        ,  0.        ,  0.        ],\n",
       "       [ 0.66323529,  0.70718954,  0.70130719,  0.70130719,  0.70130719,\n",
       "         0.70130719,  0.71895425,  0.71895425,  0.57429972,  0.        ,\n",
       "         0.        ,  0.        ,  0.        ],\n",
       "       [ 0.66323529,  0.70718954,  0.70130719,  0.70130719,  0.70130719,\n",
       "         0.70130719,  0.71895425,  0.71895425,  0.57429972,  0.        ,\n",
       "         0.        ,  0.        ,  0.        ]])"
      ]
     },
     "execution_count": 18,
     "metadata": {},
     "output_type": "execute_result"
    }
   ],
   "source": [
    "scores = [x[1] for x in grid.grid_scores_]\n",
    "scores = np.array(scores).reshape(len(C_range), len(gamma_range))\n",
    "scores"
   ]
  },
  {
   "cell_type": "code",
   "execution_count": 19,
   "metadata": {
    "collapsed": false
   },
   "outputs": [
    {
     "data": {
      "image/png": "[encoded data removed]",
      "text/plain": [
       "<matplotlib.figure.Figure at 0x7ff6c006a390>"
      ]
     },
     "metadata": {},
     "output_type": "display_data"
    }
   ],
   "source": [
    "import matplotlib.pyplot as plt\n",
    "\n",
    "cax = plt.imshow(scores, interpolation=\"nearest\", cmap=plt.cm.hot)\n",
    "plt.xticks(np.arange(len(gamma_range)), gamma_range, rotation=45)\n",
    "plt.xlabel('gamma')\n",
    "plt.yticks(np.arange(len(C_range)), C_range)\n",
    "plt.ylabel('C')\n",
    "plt.title('Validation accuracy')\n",
    "\n",
    "cbar = plt.colorbar(cax, ticks=[np.min(scores), np.mean(scores), np.max(scores)])\n",
    "\n",
    "plt.show()"
   ]
  },
  {
   "cell_type": "code",
   "execution_count": 20,
   "metadata": {
    "collapsed": false
   },
   "outputs": [
    {
     "data": {
      "text/plain": [
       "(13, 13)"
      ]
     },
     "execution_count": 20,
     "metadata": {},
     "output_type": "execute_result"
    }
   ],
   "source": [
    "scores.shape"
   ]
  },
  {
   "cell_type": "code",
   "execution_count": 21,
   "metadata": {
    "collapsed": false
   },
   "outputs": [
    {
     "data": {
      "text/plain": [
       "0.73479135243841132"
      ]
     },
     "execution_count": 21,
     "metadata": {},
     "output_type": "execute_result"
    }
   ],
   "source": [
    "np.max(scores)"
   ]
  },
  {
   "cell_type": "code",
   "execution_count": 22,
   "metadata": {
    "collapsed": false
   },
   "outputs": [
    {
     "data": {
      "text/plain": [
       "0.71289592760181009"
      ]
     },
     "execution_count": 22,
     "metadata": {},
     "output_type": "execute_result"
    }
   ],
   "source": [
    "C = C_range[2]\n",
    "gamma = gamma_range[7]\n",
    "scores[2][7]"
   ]
  },
  {
   "cell_type": "markdown",
   "metadata": {},
   "source": [
    "##Try Lower Dimensionality"
   ]
  },
  {
   "cell_type": "code",
   "execution_count": 23,
   "metadata": {
    "collapsed": false
   },
   "outputs": [],
   "source": [
    "anovas_450 = FeatureUnion([ (m, new_anova(m, k=150)) for m in index_map])\n",
    "feature_selection_svc_450 = Pipeline([('feature_selection', anovas_450), ('svc', SVC())])\n",
    "grid_450 = GridSearchCV(feature_selection_svc_450, param_grid=param_grid, cv=cv, scoring = scorer)"
   ]
  },
  {
   "cell_type": "code",
   "execution_count": 24,
   "metadata": {
    "collapsed": false
   },
   "outputs": [],
   "source": [
    "from sklearn.grid_search import RandomizedSearchCV\n",
    "random_450 = RandomizedSearchCV(feature_selection_svc_450, param_distributions=param_grid, cv=cv, scoring = scorer)"
   ]
  },
  {
   "cell_type": "code",
   "execution_count": 25,
   "metadata": {
    "collapsed": false
   },
   "outputs": [
    {
     "name": "stdout",
     "output_type": "stream",
     "text": [
      "############################################################"
     ]
    },
    {
     "data": {
      "text/plain": [
       "RandomizedSearchCV(cv=sklearn.cross_validation.StratifiedKFold(labels=[1 1 ..., 0 0], n_folds=6, shuffle=False, random_state=None),\n",
       "          error_score='raise',\n",
       "          estimator=Pipeline(steps=[('feature_selection', FeatureUnion(n_jobs=1,\n",
       "       transformer_list=[('fa', Pipeline(steps=[('columns', ColumnSelector(col_indexes=(134263, 268526))), ('anova', SelectKBest(k=150, score_func=<function f_classif at 0x7ff692727230>))])), ('dmean', Pipeline(steps=[('columns', ColumnSelector(col...f', max_iter=-1, probability=False, random_state=None,\n",
       "  shrinking=True, tol=0.001, verbose=False))]),\n",
       "          fit_params={}, iid=True, n_iter=10, n_jobs=1,\n",
       "          param_distributions={'svc__gamma': array([  1.00000e-09,   1.00000e-08,   1.00000e-07,   1.00000e-06,\n",
       "         1.00000e-05,   1.00000e-04,   1.00000e-03,   1.00000e-02,\n",
       "         1.00000e-01,   1.00000e+00,   1.00000e+01,   1.00000e+02,\n",
       "         1.00000e+03]), 'svc__C': array([  1.00000e-02,   1.00000e-01,   1.00000e+00,   1.00000e+01,\n",
       "         1.00000e+02,   1.00000e+03,   1.00000e+04,   1.00000e+05,\n",
       "         1.00000e+06,   1.00000e+07,   1.00000e+08,   1.00000e+09,\n",
       "         1.00000e+10])},\n",
       "          pre_dispatch='2*n_jobs', random_state=None, refit=True,\n",
       "          scoring=make_scorer(verbose_score_fn), verbose=0)"
      ]
     },
     "execution_count": 25,
     "metadata": {},
     "output_type": "execute_result"
    }
   ],
   "source": [
    "random_450.fit(mat, labels)"
   ]
  },
  {
   "cell_type": "code",
   "execution_count": 26,
   "metadata": {
    "collapsed": false
   },
   "outputs": [
    {
     "data": {
      "text/plain": [
       "[mean: 0.00000, std: 0.00000, params: {'svc__gamma': 10.0, 'svc__C': 10000000000.0},\n",
       " mean: 0.00000, std: 0.00000, params: {'svc__gamma': 1.0000000000000001e-05, 'svc__C': 10.0},\n",
       " mean: 0.43336, std: 0.21426, params: {'svc__gamma': 0.001, 'svc__C': 1.0},\n",
       " mean: 0.00000, std: 0.00000, params: {'svc__gamma': 1.0, 'svc__C': 10000000.0},\n",
       " mean: 0.69697, std: 0.14559, params: {'svc__gamma': 1.0000000000000001e-05, 'svc__C': 1000000.0},\n",
       " mean: 0.00000, std: 0.00000, params: {'svc__gamma': 100.0, 'svc__C': 100000000.0},\n",
       " mean: 0.74412, std: 0.14642, params: {'svc__gamma': 1e-08, 'svc__C': 10000000000.0},\n",
       " mean: 0.69621, std: 0.18814, params: {'svc__gamma': 1.0000000000000001e-09, 'svc__C': 10000000.0},\n",
       " mean: 0.43336, std: 0.21426, params: {'svc__gamma': 0.0001, 'svc__C': 10.0},\n",
       " mean: 0.00000, std: 0.00000, params: {'svc__gamma': 1e-08, 'svc__C': 1000.0}]"
      ]
     },
     "execution_count": 26,
     "metadata": {},
     "output_type": "execute_result"
    }
   ],
   "source": [
    "random_450.grid_scores_"
   ]
  },
  {
   "cell_type": "markdown",
   "metadata": {},
   "source": [
    "##Explore if PCA can Better Select Features"
   ]
  },
  {
   "cell_type": "code",
   "execution_count": 27,
   "metadata": {
    "collapsed": false
   },
   "outputs": [],
   "source": [
    "from sklearn.decomposition import PCA"
   ]
  },
  {
   "cell_type": "code",
   "execution_count": 28,
   "metadata": {
    "collapsed": false
   },
   "outputs": [
    {
     "data": {
      "text/plain": [
       "PCA(copy=True, n_components=20, whiten=False)"
      ]
     },
     "execution_count": 28,
     "metadata": {},
     "output_type": "execute_result"
    }
   ],
   "source": [
    "pca = PCA(n_components=20)\n",
    "pca.fit(mat, labels)"
   ]
  },
  {
   "cell_type": "code",
   "execution_count": 29,
   "metadata": {
    "collapsed": false
   },
   "outputs": [
    {
     "data": {
      "text/plain": [
       "array([ 0.21797068,  0.08451933,  0.04719787,  0.03515985,  0.03011981,\n",
       "        0.0236962 ,  0.02220851,  0.02181247,  0.01787787,  0.01699752,\n",
       "        0.01645817,  0.01575456,  0.01452591,  0.01401594,  0.0135983 ,\n",
       "        0.01271394,  0.01239047,  0.01220256,  0.01198456,  0.01153273], dtype=float32)"
      ]
     },
     "execution_count": 29,
     "metadata": {},
     "output_type": "execute_result"
    }
   ],
   "source": [
    "pca.explained_variance_ratio_"
   ]
  },
  {
   "cell_type": "code",
   "execution_count": 30,
   "metadata": {
    "collapsed": false
   },
   "outputs": [
    {
     "data": {
      "text/plain": [
       "0.65273732"
      ]
     },
     "execution_count": 30,
     "metadata": {},
     "output_type": "execute_result"
    }
   ],
   "source": [
    "np.sum(pca.explained_variance_ratio_)"
   ]
  },
  {
   "cell_type": "markdown",
   "metadata": {},
   "source": [
    "__Each new dimension still capturing variance, increase a little more__"
   ]
  },
  {
   "cell_type": "code",
   "execution_count": 31,
   "metadata": {
    "collapsed": false
   },
   "outputs": [
    {
     "name": "stderr",
     "output_type": "stream",
     "text": [
      "/usr/local/anaconda/lib/python2.7/site-packages/numpy/core/_methods.py:59: RuntimeWarning: Mean of empty slice.\n",
      "  warnings.warn(\"Mean of empty slice.\", RuntimeWarning)\n"
     ]
    },
    {
     "data": {
      "text/plain": [
       "PCA(copy=True, n_components=100, whiten=False)"
      ]
     },
     "execution_count": 31,
     "metadata": {},
     "output_type": "execute_result"
    }
   ],
   "source": [
    "pca = PCA(n_components=100)\n",
    "pca.fit(mat, labels)"
   ]
  },
  {
   "cell_type": "code",
   "execution_count": 32,
   "metadata": {
    "collapsed": false
   },
   "outputs": [
    {
     "data": {
      "text/plain": [
       "array([  2.17970684e-01,   8.45193341e-02,   4.71978672e-02,\n",
       "         3.51598524e-02,   3.01198121e-02,   2.36961972e-02,\n",
       "         2.22085081e-02,   2.18124725e-02,   1.78778730e-02,\n",
       "         1.69975199e-02,   1.64581705e-02,   1.57545581e-02,\n",
       "         1.45259099e-02,   1.40159409e-02,   1.35983005e-02,\n",
       "         1.27139352e-02,   1.23904739e-02,   1.22025600e-02,\n",
       "         1.19845578e-02,   1.15327295e-02,   1.12301540e-02,\n",
       "         1.11266794e-02,   1.07760346e-02,   1.05246492e-02,\n",
       "         1.03212334e-02,   1.00578163e-02,   9.74796712e-03,\n",
       "         9.49515309e-03,   9.31263342e-03,   9.19554941e-03,\n",
       "         8.91812705e-03,   8.86134245e-03,   8.52060784e-03,\n",
       "         8.32910370e-03,   8.20756424e-03,   8.15869682e-03,\n",
       "         7.93681946e-03,   7.91312288e-03,   7.77330203e-03,\n",
       "         7.58283306e-03,   7.53953774e-03,   7.50652794e-03,\n",
       "         7.35501293e-03,   7.31272809e-03,   7.06428988e-03,\n",
       "         6.98405784e-03,   6.87036617e-03,   6.69304002e-03,\n",
       "         6.63704192e-03,   6.56195078e-03,   6.48630038e-03,\n",
       "         6.45300653e-03,   6.18399540e-03,   6.06649881e-03,\n",
       "         5.92927542e-03,   5.88464877e-03,   5.69709204e-03,\n",
       "         5.61237335e-03,   5.49492845e-03,   5.41523378e-03,\n",
       "         5.39877452e-03,   5.26726292e-03,   4.94596455e-03,\n",
       "         4.92497627e-03,   4.48360713e-03,   4.33739088e-03,\n",
       "         4.16738307e-03,   1.67832068e-11], dtype=float32)"
      ]
     },
     "execution_count": 32,
     "metadata": {},
     "output_type": "execute_result"
    }
   ],
   "source": [
    "pca.explained_variance_ratio_"
   ]
  },
  {
   "cell_type": "code",
   "execution_count": 33,
   "metadata": {
    "collapsed": false
   },
   "outputs": [
    {
     "data": {
      "text/plain": [
       "0.99999988"
      ]
     },
     "execution_count": 33,
     "metadata": {},
     "output_type": "execute_result"
    }
   ],
   "source": [
    "np.sum(pca.explained_variance_ratio_)"
   ]
  },
  {
   "cell_type": "code",
   "execution_count": 34,
   "metadata": {
    "collapsed": false
   },
   "outputs": [
    {
     "data": {
      "image/png": "[encoded data removed]",
      "text/plain": [
       "<matplotlib.figure.Figure at 0x7ff68e161590>"
      ]
     },
     "metadata": {},
     "output_type": "display_data"
    }
   ],
   "source": [
    "import matplotlib.pyplot as plt\n",
    "plt.plot(pca.explained_variance_ratio_)\n",
    "plt.show()"
   ]
  },
  {
   "cell_type": "code",
   "execution_count": 35,
   "metadata": {
    "collapsed": false
   },
   "outputs": [
    {
     "data": {
      "text/plain": [
       "0.99149513"
      ]
     },
     "execution_count": 35,
     "metadata": {},
     "output_type": "execute_result"
    }
   ],
   "source": [
    "np.sum(pca.explained_variance_ratio_[:65])"
   ]
  },
  {
   "cell_type": "markdown",
   "metadata": {},
   "source": [
    "_We Are Able to Capture Almost all variance with 65 dimensions, we may use this later._"
   ]
  },
  {
   "cell_type": "markdown",
   "metadata": {},
   "source": [
    "##Calculate Confusion Matrix"
   ]
  },
  {
   "cell_type": "code",
   "execution_count": 36,
   "metadata": {
    "collapsed": false
   },
   "outputs": [
    {
     "name": "stdout",
     "output_type": "stream",
     "text": [
      "####\n",
      "####\n",
      "####\n",
      "####\n",
      "####\n",
      "####\n"
     ]
    }
   ],
   "source": [
    "labels_arr = np.array(labels)\n",
    "\n",
    "feature_selection_svc.set_params(svc__C=C, svc__gamma=gamma)\n",
    "\n",
    "cv_info, cv_info_train = epi_prediction.verbose_cv(mat, \n",
    "                                                   labels_arr, \n",
    "                                                   feature_selection_svc,\n",
    "                                                   n_folds=n_folds,\n",
    "                                                   verbose=False)"
   ]
  },
  {
   "cell_type": "code",
   "execution_count": 37,
   "metadata": {
    "collapsed": false
   },
   "outputs": [
    {
     "data": {
      "text/plain": [
       "0.71293706293706294"
      ]
     },
     "execution_count": 37,
     "metadata": {},
     "output_type": "execute_result"
    }
   ],
   "source": [
    "cv_info.avg_f1_score()"
   ]
  },
  {
   "cell_type": "code",
   "execution_count": 38,
   "metadata": {
    "collapsed": false
   },
   "outputs": [
    {
     "data": {
      "text/plain": [
       "array([[28,  8],\n",
       "       [ 9, 23]])"
      ]
     },
     "execution_count": 38,
     "metadata": {},
     "output_type": "execute_result"
    }
   ],
   "source": [
    "cv_info.confusion_matrix()"
   ]
  },
  {
   "cell_type": "code",
   "execution_count": 39,
   "metadata": {
    "collapsed": false
   },
   "outputs": [
    {
     "data": {
      "text/plain": [
       "array([[ 0.77777778,  0.22222222],\n",
       "       [ 0.28125   ,  0.71875   ]])"
      ]
     },
     "execution_count": 39,
     "metadata": {},
     "output_type": "execute_result"
    }
   ],
   "source": [
    "cv_info.normalized_confusion_matrix()"
   ]
  },
  {
   "cell_type": "code",
   "execution_count": 40,
   "metadata": {
    "collapsed": false
   },
   "outputs": [
    {
     "data": {
      "image/png": "[encoded data removed]",
      "text/plain": [
       "<matplotlib.figure.Figure at 0x7ff68dfbec10>"
      ]
     },
     "metadata": {},
     "output_type": "display_data"
    }
   ],
   "source": [
    "epi_prediction.plot_confusion_matrix(cv_info.normalized_confusion_matrix(), \n",
    "                      title=\"Combined Modalities Confusion Matrix\")"
   ]
  },
  {
   "cell_type": "markdown",
   "metadata": {},
   "source": [
    "##Try Just Best 500 instead of 1500"
   ]
  },
  {
   "cell_type": "code",
   "execution_count": 41,
   "metadata": {
    "collapsed": false
   },
   "outputs": [],
   "source": [
    "k = 500\n",
    "feature_selection = SelectKBest(f_classif, k=k)\n",
    "svc = SVC()\n",
    "anova_500_svc = Pipeline([('anova', feature_selection), ('svc', svc)])"
   ]
  },
  {
   "cell_type": "code",
   "execution_count": 42,
   "metadata": {
    "collapsed": false
   },
   "outputs": [
    {
     "name": "stdout",
     "output_type": "stream",
     "text": [
      "------------------------------------------------------------------------------------------------------------------------------------------------------------------------------------------------------------------------------------------------------------------------------------------------------------------------------------------------------------------------------------------------------------------------------------------------------------------------------------------------------------------------------------------------------------------------------------------------------------------------------------------------------------------------------------------------------------------------------------------------------------------------------------------------------------------------------------------------------------------------------------------------------------------------------------------------------------------------------------------------------------------------------------------------------\n",
      "######################################################################################################################################################################################################################################################################################################################################################################################################################################################################################################################################################################################################################################################################################################################################################################################################################################################################################################################################################################################################################################################"
     ]
    },
    {
     "data": {
      "text/plain": [
       "GridSearchCV(cv=sklearn.cross_validation.StratifiedKFold(labels=[1 1 ..., 0 0], n_folds=6, shuffle=False, random_state=None),\n",
       "       error_score='raise',\n",
       "       estimator=Pipeline(steps=[('anova', SelectKBest(k=500, score_func=<function f_classif at 0x7ff692727230>)), ('svc', SVC(C=1.0, cache_size=200, class_weight=None, coef0=0.0, degree=3, gamma=0.0,\n",
       "  kernel='rbf', max_iter=-1, probability=False, random_state=None,\n",
       "  shrinking=True, tol=0.001, verbose=False))]),\n",
       "       fit_params={}, iid=True, loss_func=None, n_jobs=1,\n",
       "       param_grid={'svc__gamma': array([  1.00000e-09,   1.00000e-08,   1.00000e-07,   1.00000e-06,\n",
       "         1.00000e-05,   1.00000e-04,   1.00000e-03,   1.00000e-02,\n",
       "         1.00000e-01,   1.00000e+00,   1.00000e+01,   1.00000e+02,\n",
       "         1.00000e+03]), 'svc__C': array([  1.00000e-02,   1.00000e-01,   1.00000e+00,   1.00000e+01,\n",
       "         1.00000e+02,   1.00000e+03,   1.00000e+04,   1.00000e+05,\n",
       "         1.00000e+06,   1.00000e+07,   1.00000e+08,   1.00000e+09,\n",
       "         1.00000e+10])},\n",
       "       pre_dispatch='2*n_jobs', refit=True, score_func=None,\n",
       "       scoring=make_scorer(verbose_score_fn), verbose=0)"
      ]
     },
     "execution_count": 42,
     "metadata": {},
     "output_type": "execute_result"
    }
   ],
   "source": [
    "scorer = epi_prediction.verbose_scorer(total_runs)\n",
    "grid_wmatter_500 = GridSearchCV(anova_500_svc, \n",
    "                            param_grid=param_grid, \n",
    "                            cv=cv, scoring = scorer)\n",
    "\n",
    "grid_wmatter_500.fit(mat, labels)"
   ]
  },
  {
   "cell_type": "code",
   "execution_count": 43,
   "metadata": {
    "collapsed": false
   },
   "outputs": [
    {
     "data": {
      "text/plain": [
       "array([[ 0.        ,  0.        ,  0.        ,  0.        ,  0.        ,\n",
       "         0.        ,  0.        ,  0.        ,  0.        ,  0.        ,\n",
       "         0.        ,  0.        ,  0.        ],\n",
       "       [ 0.        ,  0.        ,  0.        ,  0.        ,  0.        ,\n",
       "         0.        ,  0.        ,  0.        ,  0.67491087,  0.        ,\n",
       "         0.        ,  0.        ,  0.        ],\n",
       "       [ 0.        ,  0.        ,  0.        ,  0.        ,  0.        ,\n",
       "         0.        ,  0.        ,  0.67491087,  0.69353832,  0.70309821,\n",
       "         0.        ,  0.        ,  0.        ],\n",
       "       [ 0.        ,  0.        ,  0.        ,  0.        ,  0.        ,\n",
       "         0.        ,  0.67491087,  0.70637255,  0.68888146,  0.70309821,\n",
       "         0.        ,  0.        ,  0.        ],\n",
       "       [ 0.        ,  0.        ,  0.        ,  0.        ,  0.        ,\n",
       "         0.67491087,  0.69166667,  0.67818627,  0.68888146,  0.70309821,\n",
       "         0.        ,  0.        ,  0.        ],\n",
       "       [ 0.        ,  0.        ,  0.        ,  0.        ,  0.67491087,\n",
       "         0.69166667,  0.67818627,  0.67818627,  0.68888146,  0.70309821,\n",
       "         0.        ,  0.        ,  0.        ],\n",
       "       [ 0.        ,  0.        ,  0.        ,  0.67491087,  0.69166667,\n",
       "         0.67818627,  0.67818627,  0.67818627,  0.68888146,  0.70309821,\n",
       "         0.        ,  0.        ,  0.        ],\n",
       "       [ 0.        ,  0.        ,  0.67491087,  0.69166667,  0.67818627,\n",
       "         0.67818627,  0.67818627,  0.67818627,  0.68888146,  0.70309821,\n",
       "         0.        ,  0.        ,  0.        ],\n",
       "       [ 0.        ,  0.67491087,  0.70637255,  0.67818627,  0.67818627,\n",
       "         0.67818627,  0.67818627,  0.67818627,  0.68888146,  0.70309821,\n",
       "         0.        ,  0.        ,  0.        ],\n",
       "       [ 0.65041478,  0.73578431,  0.67818627,  0.67818627,  0.67818627,\n",
       "         0.67818627,  0.67818627,  0.67818627,  0.68888146,  0.70309821,\n",
       "         0.        ,  0.        ,  0.        ],\n",
       "       [ 0.64795009,  0.67025401,  0.67818627,  0.67818627,  0.67818627,\n",
       "         0.67818627,  0.67818627,  0.67818627,  0.68888146,  0.70309821,\n",
       "         0.        ,  0.        ,  0.        ],\n",
       "       [ 0.65775401,  0.68126114,  0.67818627,  0.67818627,  0.67818627,\n",
       "         0.67818627,  0.67818627,  0.67818627,  0.68888146,  0.70309821,\n",
       "         0.        ,  0.        ,  0.        ],\n",
       "       [ 0.65775401,  0.66778075,  0.67818627,  0.67818627,  0.67818627,\n",
       "         0.67818627,  0.67818627,  0.67818627,  0.68888146,  0.70309821,\n",
       "         0.        ,  0.        ,  0.        ]])"
      ]
     },
     "execution_count": 43,
     "metadata": {},
     "output_type": "execute_result"
    }
   ],
   "source": [
    "scores = [x[1] for x in grid_wmatter_500.grid_scores_]\n",
    "scores = np.array(scores).reshape(len(C_range), len(gamma_range))\n",
    "scores"
   ]
  },
  {
   "cell_type": "code",
   "execution_count": 44,
   "metadata": {
    "collapsed": false
   },
   "outputs": [
    {
     "data": {
      "image/png": "[encoded data removed]",
      "text/plain": [
       "<matplotlib.figure.Figure at 0x7ff68de967d0>"
      ]
     },
     "metadata": {},
     "output_type": "display_data"
    }
   ],
   "source": [
    "cax = plt.imshow(scores, interpolation=\"nearest\", cmap=plt.cm.hot)\n",
    "plt.xticks(np.arange(len(gamma_range)), gamma_range, rotation=45)\n",
    "plt.xlabel('gamma')\n",
    "plt.yticks(np.arange(len(C_range)), C_range)\n",
    "plt.ylabel('C')\n",
    "plt.title('Validation accuracy')\n",
    "\n",
    "cbar = plt.colorbar(cax, ticks=[np.min(scores), np.mean(scores), np.max(scores)])\n",
    "\n",
    "plt.show()"
   ]
  },
  {
   "cell_type": "code",
   "execution_count": 45,
   "metadata": {
    "collapsed": false
   },
   "outputs": [
    {
     "data": {
      "text/plain": [
       "0.67491087344028511"
      ]
     },
     "execution_count": 45,
     "metadata": {},
     "output_type": "execute_result"
    }
   ],
   "source": [
    "C = C_range[8]\n",
    "gamma = gamma_range[1]\n",
    "scores[8][1]"
   ]
  },
  {
   "cell_type": "code",
   "execution_count": 46,
   "metadata": {
    "collapsed": false
   },
   "outputs": [
    {
     "data": {
      "text/plain": [
       "<module 'epi_prediction' from 'epi_prediction.pyc'>"
      ]
     },
     "execution_count": 46,
     "metadata": {},
     "output_type": "execute_result"
    }
   ],
   "source": [
    "reload(epi_prediction)"
   ]
  },
  {
   "cell_type": "code",
   "execution_count": 47,
   "metadata": {
    "collapsed": false
   },
   "outputs": [],
   "source": [
    "white_matter = epi_prediction.SimpleMasker('masks/white.nii', .2)"
   ]
  },
  {
   "cell_type": "markdown",
   "metadata": {},
   "source": [
    "##Unsatisfactory Results, need new way to combine"
   ]
  },
  {
   "cell_type": "markdown",
   "metadata": {},
   "source": [
    "__Will Try Combining Probalities from the SVM Outputs__"
   ]
  },
  {
   "cell_type": "markdown",
   "metadata": {},
   "source": [
    "_Know the Best Params for Each SVM from other experiments_"
   ]
  },
  {
   "cell_type": "code",
   "execution_count": 48,
   "metadata": {
    "collapsed": false
   },
   "outputs": [],
   "source": [
    "svc_params_map = dict(dmean=dict(C=.01),\n",
    "                      kmean=dict(C=1),\n",
    "                      fa=dict(C=.1))"
   ]
  },
  {
   "cell_type": "code",
   "execution_count": 49,
   "metadata": {
    "collapsed": false
   },
   "outputs": [],
   "source": [
    "def new_anova_and_svc(mod, k=500): \n",
    "    svc = SVC()\n",
    "    svc.kernel='linear'\n",
    "    svc.C = svc_params_map[mod]['C']\n",
    "    svc.probability=True\n",
    "    return Pipeline([\n",
    "        ('columns', epi_prediction.ColumnSelector(index_map[mod])),\n",
    "        ('anova', SelectKBest(k=k)),\n",
    "        ('svc', svc)\n",
    "    ])\n",
    "    \n",
    "svcs = [new_anova_and_svc(m) for m in index_map]"
   ]
  },
  {
   "cell_type": "code",
   "execution_count": 50,
   "metadata": {
    "collapsed": false
   },
   "outputs": [],
   "source": [
    "combined_alg = epi_prediction.ProbableBinaryEnsembleAlg(svcs)"
   ]
  },
  {
   "cell_type": "code",
   "execution_count": 51,
   "metadata": {
    "collapsed": false
   },
   "outputs": [
    {
     "name": "stdout",
     "output_type": "stream",
     "text": [
      "####\n",
      "####\n",
      "####\n",
      "####\n",
      "####\n",
      "####\n"
     ]
    }
   ],
   "source": [
    "cv_combos, cv_combos_train = epi_prediction.verbose_cv(mat, labels_arr, combined_alg, n_folds=6, verbose=False)"
   ]
  },
  {
   "cell_type": "code",
   "execution_count": 52,
   "metadata": {
    "collapsed": false
   },
   "outputs": [
    {
     "data": {
      "text/plain": [
       "<module 'epi_prediction' from 'epi_prediction.pyc'>"
      ]
     },
     "execution_count": 52,
     "metadata": {},
     "output_type": "execute_result"
    }
   ],
   "source": [
    "reload(epi_prediction)"
   ]
  },
  {
   "cell_type": "code",
   "execution_count": 53,
   "metadata": {
    "collapsed": false
   },
   "outputs": [
    {
     "data": {
      "text/plain": [
       "0.74020979020979016"
      ]
     },
     "execution_count": 53,
     "metadata": {},
     "output_type": "execute_result"
    }
   ],
   "source": [
    "cv_combos.avg_f1_score()"
   ]
  },
  {
   "cell_type": "code",
   "execution_count": 54,
   "metadata": {
    "collapsed": false
   },
   "outputs": [
    {
     "data": {
      "text/plain": [
       "array([[ 0.80555556,  0.19444444],\n",
       "       [ 0.25      ,  0.75      ]])"
      ]
     },
     "execution_count": 54,
     "metadata": {},
     "output_type": "execute_result"
    }
   ],
   "source": [
    "cv_combos.normalized_confusion_matrix()"
   ]
  },
  {
   "cell_type": "code",
   "execution_count": 55,
   "metadata": {
    "collapsed": false
   },
   "outputs": [
    {
     "data": {
      "text/plain": [
       "[0.92307692307692302,\n",
       " 0.59999999999999998,\n",
       " 0.90909090909090906,\n",
       " 0.59999999999999998,\n",
       " 0.5,\n",
       " 0.90909090909090906]"
      ]
     },
     "execution_count": 55,
     "metadata": {},
     "output_type": "execute_result"
    }
   ],
   "source": [
    "cv_combos.f1_scores()"
   ]
  },
  {
   "cell_type": "code",
   "execution_count": 56,
   "metadata": {
    "collapsed": false
   },
   "outputs": [
    {
     "data": {
      "image/png": "[encoded data removed]",
      "text/plain": [
       "<matplotlib.figure.Figure at 0x7ff68e04f090>"
      ]
     },
     "metadata": {},
     "output_type": "display_data"
    }
   ],
   "source": [
    "epi_prediction.plot_confusion_matrix(cv_combos.normalized_confusion_matrix(), \"Combined Modalities\")"
   ]
  },
  {
   "cell_type": "markdown",
   "metadata": {},
   "source": [
    "##Good Results, Lets Compare With Removing Modalities"
   ]
  },
  {
   "cell_type": "code",
   "execution_count": 57,
   "metadata": {
    "collapsed": false
   },
   "outputs": [
    {
     "data": {
      "text/plain": [
       "['fa', 'dmean', 'kmean']"
      ]
     },
     "execution_count": 57,
     "metadata": {},
     "output_type": "execute_result"
    }
   ],
   "source": [
    "[m for m in index_map]"
   ]
  },
  {
   "cell_type": "code",
   "execution_count": 58,
   "metadata": {
    "collapsed": false
   },
   "outputs": [],
   "source": [
    "svcs_no_kmean = [new_anova_and_svc(m) for m in ['fa', 'dmean']]"
   ]
  },
  {
   "cell_type": "code",
   "execution_count": 59,
   "metadata": {
    "collapsed": false
   },
   "outputs": [
    {
     "name": "stdout",
     "output_type": "stream",
     "text": [
      "####\n",
      "####\n",
      "####\n",
      "####\n",
      "####\n",
      "####\n"
     ]
    }
   ],
   "source": [
    "combined_alg_no_kmean = epi_prediction.ProbableBinaryEnsembleAlg(svcs_no_kmean)\n",
    "cv_combos_no_kmean, cv_combos_train_no_kmean = epi_prediction.verbose_cv(mat, \n",
    "                                                                         labels_arr, \n",
    "                                                                         combined_alg_no_kmean,\n",
    "                                                                         n_folds=6, \n",
    "                                                                         verbose=False)"
   ]
  },
  {
   "cell_type": "code",
   "execution_count": 60,
   "metadata": {
    "collapsed": false
   },
   "outputs": [
    {
     "data": {
      "text/plain": [
       "0.67520257520257509"
      ]
     },
     "execution_count": 60,
     "metadata": {},
     "output_type": "execute_result"
    }
   ],
   "source": [
    "cv_combos_no_kmean.avg_f1_score()"
   ]
  },
  {
   "cell_type": "code",
   "execution_count": 61,
   "metadata": {
    "collapsed": false
   },
   "outputs": [
    {
     "data": {
      "image/png": "[encoded data removed]",
      "text/plain": [
       "<matplotlib.figure.Figure at 0x7ff68dce9310>"
      ]
     },
     "metadata": {},
     "output_type": "display_data"
    }
   ],
   "source": [
    "epi_prediction.plot_confusion_matrix(cv_combos_no_kmean.normalized_confusion_matrix(), \"fa and dMean\")"
   ]
  },
  {
   "cell_type": "code",
   "execution_count": 62,
   "metadata": {
    "collapsed": false
   },
   "outputs": [
    {
     "data": {
      "text/plain": [
       "array([[ 0.77777778,  0.22222222],\n",
       "       [ 0.3125    ,  0.6875    ]])"
      ]
     },
     "execution_count": 62,
     "metadata": {},
     "output_type": "execute_result"
    }
   ],
   "source": [
    "cv_combos_no_kmean.normalized_confusion_matrix()"
   ]
  },
  {
   "cell_type": "markdown",
   "metadata": {},
   "source": [
    "_kMean is a major contributor, next examine contribution from other 2_"
   ]
  },
  {
   "cell_type": "code",
   "execution_count": 63,
   "metadata": {
    "collapsed": false
   },
   "outputs": [
    {
     "name": "stdout",
     "output_type": "stream",
     "text": [
      "####\n",
      "####\n",
      "####\n",
      "####\n",
      "####\n",
      "####\n"
     ]
    }
   ],
   "source": [
    "svcs_no_fa = [new_anova_and_svc(m) for m in ['kmean', 'dmean']]\n",
    "combined_alg_no_fa = epi_prediction.ProbableBinaryEnsembleAlg(svcs_no_fa)\n",
    "cv_combos_no_fa, cv_combos_train_no_fa = epi_prediction.verbose_cv(mat, \n",
    "                                                                   labels_arr, \n",
    "                                                                   combined_alg_no_fa,\n",
    "                                                                   n_folds=6, \n",
    "                                                                   verbose=False)"
   ]
  },
  {
   "cell_type": "code",
   "execution_count": 64,
   "metadata": {
    "collapsed": false
   },
   "outputs": [
    {
     "data": {
      "text/plain": [
       "0.70449550449550447"
      ]
     },
     "execution_count": 64,
     "metadata": {},
     "output_type": "execute_result"
    }
   ],
   "source": [
    "cv_combos_no_fa.avg_f1_score()"
   ]
  },
  {
   "cell_type": "code",
   "execution_count": 65,
   "metadata": {
    "collapsed": false
   },
   "outputs": [
    {
     "data": {
      "image/png": "[encoded data removed]",
      "text/plain": [
       "<matplotlib.figure.Figure at 0x7ff68f468390>"
      ]
     },
     "metadata": {},
     "output_type": "display_data"
    }
   ],
   "source": [
    "epi_prediction.plot_confusion_matrix(cv_combos_no_fa.normalized_confusion_matrix(), \"dmean and kmean\")"
   ]
  },
  {
   "cell_type": "code",
   "execution_count": 66,
   "metadata": {
    "collapsed": false
   },
   "outputs": [
    {
     "data": {
      "text/plain": [
       "array([[ 0.80555556,  0.19444444],\n",
       "       [ 0.28125   ,  0.71875   ]])"
      ]
     },
     "execution_count": 66,
     "metadata": {},
     "output_type": "execute_result"
    }
   ],
   "source": [
    "cv_combos_no_fa.normalized_confusion_matrix()"
   ]
  },
  {
   "cell_type": "markdown",
   "metadata": {},
   "source": [
    "_let's try one more time with no dmean_"
   ]
  },
  {
   "cell_type": "code",
   "execution_count": 67,
   "metadata": {
    "collapsed": false
   },
   "outputs": [
    {
     "name": "stdout",
     "output_type": "stream",
     "text": [
      "####\n",
      "####\n",
      "####\n",
      "####\n",
      "####\n",
      "####\n"
     ]
    }
   ],
   "source": [
    "svcs_no_dmean = [new_anova_and_svc(m) for m in ['kmean', 'fa']]\n",
    "combined_alg_no_dmean = epi_prediction.ProbableBinaryEnsembleAlg(svcs_no_dmean)\n",
    "cv_combos_no_dmean, cv_combos_train_no_dmean = epi_prediction.verbose_cv(mat, \n",
    "                                                                         labels_arr, \n",
    "                                                                         combined_alg_no_dmean,\n",
    "                                                                         n_folds=6, \n",
    "                                                                         verbose=False)"
   ]
  },
  {
   "cell_type": "code",
   "execution_count": 68,
   "metadata": {
    "collapsed": false
   },
   "outputs": [
    {
     "data": {
      "text/plain": [
       "0.70479797979797976"
      ]
     },
     "execution_count": 68,
     "metadata": {},
     "output_type": "execute_result"
    }
   ],
   "source": [
    "cv_combos_no_dmean.avg_f1_score()"
   ]
  },
  {
   "cell_type": "code",
   "execution_count": 69,
   "metadata": {
    "collapsed": false
   },
   "outputs": [
    {
     "data": {
      "text/plain": [
       "array([[ 0.77777778,  0.22222222],\n",
       "       [ 0.28125   ,  0.71875   ]])"
      ]
     },
     "execution_count": 69,
     "metadata": {},
     "output_type": "execute_result"
    }
   ],
   "source": [
    "cv_combos_no_dmean.normalized_confusion_matrix()"
   ]
  },
  {
   "cell_type": "code",
   "execution_count": 70,
   "metadata": {
    "collapsed": false
   },
   "outputs": [
    {
     "data": {
      "image/png": "[encoded data removed]",
      "text/plain": [
       "<matplotlib.figure.Figure at 0x7ff68f495790>"
      ]
     },
     "metadata": {},
     "output_type": "display_data"
    }
   ],
   "source": [
    "epi_prediction.plot_confusion_matrix(cv_combos_no_dmean.normalized_confusion_matrix(), \"kmean and fa\")"
   ]
  },
  {
   "cell_type": "code",
   "execution_count": null,
   "metadata": {
    "collapsed": false
   },
   "outputs": [],
   "source": []
  },
  {
   "cell_type": "code",
   "execution_count": null,
   "metadata": {
    "collapsed": false
   },
   "outputs": [],
   "source": []
  },
  {
   "cell_type": "code",
   "execution_count": null,
   "metadata": {
    "collapsed": false
   },
   "outputs": [],
   "source": []
  }
 ],
 "metadata": {
  "kernelspec": {
   "display_name": "Python 2",
   "language": "python",
   "name": "python2"
  },
  "language_info": {
   "codemirror_mode": {
    "name": "ipython",
    "version": 2
   },
   "file_extension": ".py",
   "mimetype": "text/x-python",
   "name": "python",
   "nbconvert_exporter": "python",
   "pygments_lexer": "ipython2",
   "version": "2.7.10"
  }
 },
 "nbformat": 4,
 "nbformat_minor": 0
}
